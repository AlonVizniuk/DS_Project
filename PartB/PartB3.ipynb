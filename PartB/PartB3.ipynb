{
 "cells": [
  {
   "cell_type": "markdown",
   "metadata": {},
   "source": [
    "## Part B3 - Hotel Pricing Analysis using Clustering Techniques"
   ]
  },
  {
   "cell_type": "markdown",
   "metadata": {},
   "source": [
    "### Import Libraries & Data Loading"
   ]
  },
  {
   "cell_type": "code",
   "execution_count": 1,
   "metadata": {},
   "outputs": [],
   "source": [
    "# Data & Visualization\n",
    "import pandas as pd\n",
    "import matplotlib.pyplot as plt\n",
    "import seaborn as sns\n",
    "sns.set(style=\"whitegrid\") # Set seaborn style\n",
    "\n",
    "# Clustering\n",
    "from scipy.cluster.hierarchy import dendrogram, linkage, fcluster\n",
    "\n",
    "# Suppress warnings for cleaner output\n",
    "import warnings\n",
    "warnings.filterwarnings(\"ignore\")\n",
    "\n",
    "# DATA LOADING - Load the updated dataset\n",
    "df = pd.read_csv(\"Data/Hotels_data_Changed.csv\")"
   ]
  },
  {
   "cell_type": "markdown",
   "metadata": {},
   "source": [
    "### 3.1 - Top Hotels\n",
    "\n",
    "We select the 150 hotels that appear most frequently in the dataset. This helps reduce noise and ensures the clustering focuses on popular hotels.\n"
   ]
  },
  {
   "cell_type": "code",
   "execution_count": 2,
   "metadata": {},
   "outputs": [
    {
     "data": {
      "application/vnd.microsoft.datawrangler.viewer.v0+json": {
       "columns": [
        {
         "name": "index",
         "rawType": "int64",
         "type": "integer"
        },
        {
         "name": "Snapshot Date",
         "rawType": "object",
         "type": "string"
        },
        {
         "name": "Checkin Date",
         "rawType": "object",
         "type": "string"
        },
        {
         "name": "Days",
         "rawType": "int64",
         "type": "integer"
        },
        {
         "name": "Original Price",
         "rawType": "int64",
         "type": "integer"
        },
        {
         "name": "Discount Price",
         "rawType": "int64",
         "type": "integer"
        },
        {
         "name": "Discount Code",
         "rawType": "int64",
         "type": "integer"
        },
        {
         "name": "Available Rooms",
         "rawType": "int64",
         "type": "integer"
        },
        {
         "name": "Hotel Name",
         "rawType": "object",
         "type": "string"
        },
        {
         "name": "Hotel Stars",
         "rawType": "int64",
         "type": "integer"
        },
        {
         "name": "DayDiff",
         "rawType": "int64",
         "type": "integer"
        },
        {
         "name": "WeekDay",
         "rawType": "object",
         "type": "string"
        },
        {
         "name": "DiscountDiff",
         "rawType": "int64",
         "type": "integer"
        },
        {
         "name": "DiscountPerc",
         "rawType": "float64",
         "type": "float"
        }
       ],
       "conversionMethod": "pd.DataFrame",
       "ref": "acd442c0-15ff-4c48-9416-66c0362f059a",
       "rows": [
        [
         "2",
         "2015-07-17",
         "2015-08-13",
         "5",
         "4370",
         "4240",
         "1",
         "3",
         "The Peninsula New York",
         "5",
         "27",
         "Thursday",
         "130",
         "2.9748283752860414"
        ],
        [
         "3",
         "2015-07-17",
         "2015-07-26",
         "5",
         "1739",
         "1667",
         "1",
         "18",
         "Eventi Hotel a Kimpton Hotel",
         "4",
         "9",
         "Sunday",
         "72",
         "4.140310523289246"
        ],
        [
         "4",
         "2015-07-17",
         "2015-08-12",
         "5",
         "1739",
         "1672",
         "1",
         "3",
         "Eventi Hotel a Kimpton Hotel",
         "4",
         "26",
         "Wednesday",
         "67",
         "3.8527889591719378"
        ],
        [
         "5",
         "2015-07-17",
         "2015-08-07",
         "5",
         "1436",
         "1345",
         "1",
         "9",
         "Grand Hyatt New York",
         "4",
         "21",
         "Friday",
         "91",
         "6.337047353760446"
        ],
        [
         "6",
         "2015-07-17",
         "2015-08-09",
         "5",
         "1616",
         "1525",
         "1",
         "5",
         "Grand Hyatt New York",
         "4",
         "23",
         "Sunday",
         "91",
         "5.631188118811881"
        ]
       ],
       "shape": {
        "columns": 13,
        "rows": 5
       }
      },
      "text/html": [
       "<div>\n",
       "<style scoped>\n",
       "    .dataframe tbody tr th:only-of-type {\n",
       "        vertical-align: middle;\n",
       "    }\n",
       "\n",
       "    .dataframe tbody tr th {\n",
       "        vertical-align: top;\n",
       "    }\n",
       "\n",
       "    .dataframe thead th {\n",
       "        text-align: right;\n",
       "    }\n",
       "</style>\n",
       "<table border=\"1\" class=\"dataframe\">\n",
       "  <thead>\n",
       "    <tr style=\"text-align: right;\">\n",
       "      <th></th>\n",
       "      <th>Snapshot Date</th>\n",
       "      <th>Checkin Date</th>\n",
       "      <th>Days</th>\n",
       "      <th>Original Price</th>\n",
       "      <th>Discount Price</th>\n",
       "      <th>Discount Code</th>\n",
       "      <th>Available Rooms</th>\n",
       "      <th>Hotel Name</th>\n",
       "      <th>Hotel Stars</th>\n",
       "      <th>DayDiff</th>\n",
       "      <th>WeekDay</th>\n",
       "      <th>DiscountDiff</th>\n",
       "      <th>DiscountPerc</th>\n",
       "    </tr>\n",
       "  </thead>\n",
       "  <tbody>\n",
       "    <tr>\n",
       "      <th>2</th>\n",
       "      <td>2015-07-17</td>\n",
       "      <td>2015-08-13</td>\n",
       "      <td>5</td>\n",
       "      <td>4370</td>\n",
       "      <td>4240</td>\n",
       "      <td>1</td>\n",
       "      <td>3</td>\n",
       "      <td>The Peninsula New York</td>\n",
       "      <td>5</td>\n",
       "      <td>27</td>\n",
       "      <td>Thursday</td>\n",
       "      <td>130</td>\n",
       "      <td>2.974828</td>\n",
       "    </tr>\n",
       "    <tr>\n",
       "      <th>3</th>\n",
       "      <td>2015-07-17</td>\n",
       "      <td>2015-07-26</td>\n",
       "      <td>5</td>\n",
       "      <td>1739</td>\n",
       "      <td>1667</td>\n",
       "      <td>1</td>\n",
       "      <td>18</td>\n",
       "      <td>Eventi Hotel a Kimpton Hotel</td>\n",
       "      <td>4</td>\n",
       "      <td>9</td>\n",
       "      <td>Sunday</td>\n",
       "      <td>72</td>\n",
       "      <td>4.140311</td>\n",
       "    </tr>\n",
       "    <tr>\n",
       "      <th>4</th>\n",
       "      <td>2015-07-17</td>\n",
       "      <td>2015-08-12</td>\n",
       "      <td>5</td>\n",
       "      <td>1739</td>\n",
       "      <td>1672</td>\n",
       "      <td>1</td>\n",
       "      <td>3</td>\n",
       "      <td>Eventi Hotel a Kimpton Hotel</td>\n",
       "      <td>4</td>\n",
       "      <td>26</td>\n",
       "      <td>Wednesday</td>\n",
       "      <td>67</td>\n",
       "      <td>3.852789</td>\n",
       "    </tr>\n",
       "    <tr>\n",
       "      <th>5</th>\n",
       "      <td>2015-07-17</td>\n",
       "      <td>2015-08-07</td>\n",
       "      <td>5</td>\n",
       "      <td>1436</td>\n",
       "      <td>1345</td>\n",
       "      <td>1</td>\n",
       "      <td>9</td>\n",
       "      <td>Grand Hyatt New York</td>\n",
       "      <td>4</td>\n",
       "      <td>21</td>\n",
       "      <td>Friday</td>\n",
       "      <td>91</td>\n",
       "      <td>6.337047</td>\n",
       "    </tr>\n",
       "    <tr>\n",
       "      <th>6</th>\n",
       "      <td>2015-07-17</td>\n",
       "      <td>2015-08-09</td>\n",
       "      <td>5</td>\n",
       "      <td>1616</td>\n",
       "      <td>1525</td>\n",
       "      <td>1</td>\n",
       "      <td>5</td>\n",
       "      <td>Grand Hyatt New York</td>\n",
       "      <td>4</td>\n",
       "      <td>23</td>\n",
       "      <td>Sunday</td>\n",
       "      <td>91</td>\n",
       "      <td>5.631188</td>\n",
       "    </tr>\n",
       "  </tbody>\n",
       "</table>\n",
       "</div>"
      ],
      "text/plain": [
       "  Snapshot Date Checkin Date  Days  Original Price  Discount Price  \\\n",
       "2    2015-07-17   2015-08-13     5            4370            4240   \n",
       "3    2015-07-17   2015-07-26     5            1739            1667   \n",
       "4    2015-07-17   2015-08-12     5            1739            1672   \n",
       "5    2015-07-17   2015-08-07     5            1436            1345   \n",
       "6    2015-07-17   2015-08-09     5            1616            1525   \n",
       "\n",
       "   Discount Code  Available Rooms                    Hotel Name  Hotel Stars  \\\n",
       "2              1                3        The Peninsula New York            5   \n",
       "3              1               18  Eventi Hotel a Kimpton Hotel            4   \n",
       "4              1                3  Eventi Hotel a Kimpton Hotel            4   \n",
       "5              1                9          Grand Hyatt New York            4   \n",
       "6              1                5          Grand Hyatt New York            4   \n",
       "\n",
       "   DayDiff    WeekDay  DiscountDiff  DiscountPerc  \n",
       "2       27   Thursday           130      2.974828  \n",
       "3        9     Sunday            72      4.140311  \n",
       "4       26  Wednesday            67      3.852789  \n",
       "5       21     Friday            91      6.337047  \n",
       "6       23     Sunday            91      5.631188  "
      ]
     },
     "execution_count": 2,
     "metadata": {},
     "output_type": "execute_result"
    }
   ],
   "source": [
    "# Get the 150 most frequent hotel names\n",
    "top_hotels = df['Hotel Name'].value_counts().head(150).index\n",
    "\n",
    "# Filter the dataset to include only these top hotels\n",
    "filterdf = df[df['Hotel Name'].isin(top_hotels)]\n",
    "\n",
    "# Preview the filtered data\n",
    "filterdf.head()"
   ]
  },
  {
   "cell_type": "markdown",
   "metadata": {},
   "source": [
    "### 3.2 - Top Check-In Dates\n",
    "\n",
    "We select the 40 most frequent check-in dates from the filtered hotel data. This ensures that the clustering is based on dates with sufficient data points."
   ]
  },
  {
   "cell_type": "code",
   "execution_count": 3,
   "metadata": {},
   "outputs": [
    {
     "data": {
      "application/vnd.microsoft.datawrangler.viewer.v0+json": {
       "columns": [
        {
         "name": "index",
         "rawType": "int64",
         "type": "integer"
        },
        {
         "name": "Snapshot Date",
         "rawType": "object",
         "type": "string"
        },
        {
         "name": "Checkin Date",
         "rawType": "object",
         "type": "string"
        },
        {
         "name": "Days",
         "rawType": "int64",
         "type": "integer"
        },
        {
         "name": "Original Price",
         "rawType": "int64",
         "type": "integer"
        },
        {
         "name": "Discount Price",
         "rawType": "int64",
         "type": "integer"
        },
        {
         "name": "Discount Code",
         "rawType": "int64",
         "type": "integer"
        },
        {
         "name": "Available Rooms",
         "rawType": "int64",
         "type": "integer"
        },
        {
         "name": "Hotel Name",
         "rawType": "object",
         "type": "string"
        },
        {
         "name": "Hotel Stars",
         "rawType": "int64",
         "type": "integer"
        },
        {
         "name": "DayDiff",
         "rawType": "int64",
         "type": "integer"
        },
        {
         "name": "WeekDay",
         "rawType": "object",
         "type": "string"
        },
        {
         "name": "DiscountDiff",
         "rawType": "int64",
         "type": "integer"
        },
        {
         "name": "DiscountPerc",
         "rawType": "float64",
         "type": "float"
        }
       ],
       "conversionMethod": "pd.DataFrame",
       "ref": "4c6a478c-e2f6-4378-9387-72449ab04b6c",
       "rows": [
        [
         "2",
         "2015-07-17",
         "2015-08-13",
         "5",
         "4370",
         "4240",
         "1",
         "3",
         "The Peninsula New York",
         "5",
         "27",
         "Thursday",
         "130",
         "2.9748283752860414"
        ],
        [
         "4",
         "2015-07-17",
         "2015-08-12",
         "5",
         "1739",
         "1672",
         "1",
         "3",
         "Eventi Hotel a Kimpton Hotel",
         "4",
         "26",
         "Wednesday",
         "67",
         "3.8527889591719378"
        ],
        [
         "7",
         "2015-07-17",
         "2015-08-12",
         "5",
         "1256",
         "1183",
         "1",
         "5",
         "Grand Hyatt New York",
         "4",
         "26",
         "Wednesday",
         "73",
         "5.812101910828026"
        ],
        [
         "8",
         "2015-07-17",
         "2015-08-13",
         "5",
         "1256",
         "1201",
         "1",
         "54",
         "Grand Hyatt New York",
         "4",
         "27",
         "Thursday",
         "55",
         "4.378980891719745"
        ],
        [
         "29",
         "2015-07-17",
         "2015-08-12",
         "5",
         "3763",
         "3378",
         "1",
         "39",
         "Park Hyatt New York",
         "5",
         "26",
         "Wednesday",
         "385",
         "10.23119851182567"
        ]
       ],
       "shape": {
        "columns": 13,
        "rows": 5
       }
      },
      "text/html": [
       "<div>\n",
       "<style scoped>\n",
       "    .dataframe tbody tr th:only-of-type {\n",
       "        vertical-align: middle;\n",
       "    }\n",
       "\n",
       "    .dataframe tbody tr th {\n",
       "        vertical-align: top;\n",
       "    }\n",
       "\n",
       "    .dataframe thead th {\n",
       "        text-align: right;\n",
       "    }\n",
       "</style>\n",
       "<table border=\"1\" class=\"dataframe\">\n",
       "  <thead>\n",
       "    <tr style=\"text-align: right;\">\n",
       "      <th></th>\n",
       "      <th>Snapshot Date</th>\n",
       "      <th>Checkin Date</th>\n",
       "      <th>Days</th>\n",
       "      <th>Original Price</th>\n",
       "      <th>Discount Price</th>\n",
       "      <th>Discount Code</th>\n",
       "      <th>Available Rooms</th>\n",
       "      <th>Hotel Name</th>\n",
       "      <th>Hotel Stars</th>\n",
       "      <th>DayDiff</th>\n",
       "      <th>WeekDay</th>\n",
       "      <th>DiscountDiff</th>\n",
       "      <th>DiscountPerc</th>\n",
       "    </tr>\n",
       "  </thead>\n",
       "  <tbody>\n",
       "    <tr>\n",
       "      <th>2</th>\n",
       "      <td>2015-07-17</td>\n",
       "      <td>2015-08-13</td>\n",
       "      <td>5</td>\n",
       "      <td>4370</td>\n",
       "      <td>4240</td>\n",
       "      <td>1</td>\n",
       "      <td>3</td>\n",
       "      <td>The Peninsula New York</td>\n",
       "      <td>5</td>\n",
       "      <td>27</td>\n",
       "      <td>Thursday</td>\n",
       "      <td>130</td>\n",
       "      <td>2.974828</td>\n",
       "    </tr>\n",
       "    <tr>\n",
       "      <th>4</th>\n",
       "      <td>2015-07-17</td>\n",
       "      <td>2015-08-12</td>\n",
       "      <td>5</td>\n",
       "      <td>1739</td>\n",
       "      <td>1672</td>\n",
       "      <td>1</td>\n",
       "      <td>3</td>\n",
       "      <td>Eventi Hotel a Kimpton Hotel</td>\n",
       "      <td>4</td>\n",
       "      <td>26</td>\n",
       "      <td>Wednesday</td>\n",
       "      <td>67</td>\n",
       "      <td>3.852789</td>\n",
       "    </tr>\n",
       "    <tr>\n",
       "      <th>7</th>\n",
       "      <td>2015-07-17</td>\n",
       "      <td>2015-08-12</td>\n",
       "      <td>5</td>\n",
       "      <td>1256</td>\n",
       "      <td>1183</td>\n",
       "      <td>1</td>\n",
       "      <td>5</td>\n",
       "      <td>Grand Hyatt New York</td>\n",
       "      <td>4</td>\n",
       "      <td>26</td>\n",
       "      <td>Wednesday</td>\n",
       "      <td>73</td>\n",
       "      <td>5.812102</td>\n",
       "    </tr>\n",
       "    <tr>\n",
       "      <th>8</th>\n",
       "      <td>2015-07-17</td>\n",
       "      <td>2015-08-13</td>\n",
       "      <td>5</td>\n",
       "      <td>1256</td>\n",
       "      <td>1201</td>\n",
       "      <td>1</td>\n",
       "      <td>54</td>\n",
       "      <td>Grand Hyatt New York</td>\n",
       "      <td>4</td>\n",
       "      <td>27</td>\n",
       "      <td>Thursday</td>\n",
       "      <td>55</td>\n",
       "      <td>4.378981</td>\n",
       "    </tr>\n",
       "    <tr>\n",
       "      <th>29</th>\n",
       "      <td>2015-07-17</td>\n",
       "      <td>2015-08-12</td>\n",
       "      <td>5</td>\n",
       "      <td>3763</td>\n",
       "      <td>3378</td>\n",
       "      <td>1</td>\n",
       "      <td>39</td>\n",
       "      <td>Park Hyatt New York</td>\n",
       "      <td>5</td>\n",
       "      <td>26</td>\n",
       "      <td>Wednesday</td>\n",
       "      <td>385</td>\n",
       "      <td>10.231199</td>\n",
       "    </tr>\n",
       "  </tbody>\n",
       "</table>\n",
       "</div>"
      ],
      "text/plain": [
       "   Snapshot Date Checkin Date  Days  Original Price  Discount Price  \\\n",
       "2     2015-07-17   2015-08-13     5            4370            4240   \n",
       "4     2015-07-17   2015-08-12     5            1739            1672   \n",
       "7     2015-07-17   2015-08-12     5            1256            1183   \n",
       "8     2015-07-17   2015-08-13     5            1256            1201   \n",
       "29    2015-07-17   2015-08-12     5            3763            3378   \n",
       "\n",
       "    Discount Code  Available Rooms                    Hotel Name  Hotel Stars  \\\n",
       "2               1                3        The Peninsula New York            5   \n",
       "4               1                3  Eventi Hotel a Kimpton Hotel            4   \n",
       "7               1                5          Grand Hyatt New York            4   \n",
       "8               1               54          Grand Hyatt New York            4   \n",
       "29              1               39           Park Hyatt New York            5   \n",
       "\n",
       "    DayDiff    WeekDay  DiscountDiff  DiscountPerc  \n",
       "2        27   Thursday           130      2.974828  \n",
       "4        26  Wednesday            67      3.852789  \n",
       "7        26  Wednesday            73      5.812102  \n",
       "8        27   Thursday            55      4.378981  \n",
       "29       26  Wednesday           385     10.231199  "
      ]
     },
     "execution_count": 3,
     "metadata": {},
     "output_type": "execute_result"
    }
   ],
   "source": [
    "# Get the 40 most frequent check-in dates\n",
    "top_checkin_dates = filterdf['Checkin Date'].value_counts().head(40).index\n",
    "\n",
    "# Filter the dataset to include only these top check-in dates\n",
    "filtered_by_date = filterdf[filterdf['Checkin Date'].isin(top_checkin_dates)]\n",
    "\n",
    "# Preview the result\n",
    "filtered_by_date.head()"
   ]
  },
  {
   "cell_type": "markdown",
   "metadata": {},
   "source": [
    "### 3.3 - Pivot Discount Price Matrix \n",
    "\n",
    "The goal of this step was to reshape the data so that each hotel is represented by a single row with structured features suitable for clustering.  \n",
    "As requested, we first aggregated the data by finding the minimum discount price for each combination of hotel, check-in date, and discount code.  <br>\n",
    "This allowed us to focus on the most attractive offer available for each scenario, which reflects realistic booking behavior. <br><br>\n",
    "Next, we pivoted the table: each row corresponds to a hotel, and each column corresponds to a specific check-in date and discount code.  \n",
    "To ensure a consistent structure, we created a fixed column layout (40 dates × 4 discount codes = 160 features), even if some hotels lacked certain values.  <br>\n",
    "Missing combinations were filled with -1 to distinguish them from real prices and to maintain uniformity across all rows.  \n",
    "Finally, we flattened the column names into a readable format and reset the index to finalize the feature matrix, ready for clustering analysis."
   ]
  },
  {
   "cell_type": "code",
   "execution_count": 4,
   "metadata": {},
   "outputs": [
    {
     "name": "stdout",
     "output_type": "stream",
     "text": [
      "Total lines (hotels) included: 149\n",
      "Total columns (price per check-in date + discount code): 161\n"
     ]
    },
    {
     "data": {
      "application/vnd.microsoft.datawrangler.viewer.v0+json": {
       "columns": [
        {
         "name": "index",
         "rawType": "int64",
         "type": "integer"
        },
        {
         "name": "Hotel Name",
         "rawType": "object",
         "type": "string"
        },
        {
         "name": "2015-11-11 - 1",
         "rawType": "float64",
         "type": "float"
        },
        {
         "name": "2015-11-11 - 2",
         "rawType": "float64",
         "type": "float"
        },
        {
         "name": "2015-11-11 - 3",
         "rawType": "float64",
         "type": "float"
        },
        {
         "name": "2015-11-11 - 4",
         "rawType": "float64",
         "type": "float"
        },
        {
         "name": "2015-10-14 - 1",
         "rawType": "float64",
         "type": "float"
        },
        {
         "name": "2015-10-14 - 2",
         "rawType": "float64",
         "type": "float"
        },
        {
         "name": "2015-10-14 - 3",
         "rawType": "float64",
         "type": "float"
        },
        {
         "name": "2015-10-14 - 4",
         "rawType": "float64",
         "type": "float"
        },
        {
         "name": "2015-11-04 - 1",
         "rawType": "float64",
         "type": "float"
        },
        {
         "name": "2015-11-04 - 2",
         "rawType": "float64",
         "type": "float"
        },
        {
         "name": "2015-11-04 - 3",
         "rawType": "float64",
         "type": "float"
        },
        {
         "name": "2015-11-04 - 4",
         "rawType": "float64",
         "type": "float"
        },
        {
         "name": "2015-08-19 - 1",
         "rawType": "float64",
         "type": "float"
        },
        {
         "name": "2015-08-19 - 2",
         "rawType": "float64",
         "type": "float"
        },
        {
         "name": "2015-08-19 - 3",
         "rawType": "float64",
         "type": "float"
        },
        {
         "name": "2015-08-19 - 4",
         "rawType": "float64",
         "type": "float"
        },
        {
         "name": "2015-10-28 - 1",
         "rawType": "float64",
         "type": "float"
        },
        {
         "name": "2015-10-28 - 2",
         "rawType": "float64",
         "type": "float"
        },
        {
         "name": "2015-10-28 - 3",
         "rawType": "float64",
         "type": "float"
        },
        {
         "name": "2015-10-28 - 4",
         "rawType": "float64",
         "type": "float"
        },
        {
         "name": "2015-10-21 - 1",
         "rawType": "float64",
         "type": "float"
        },
        {
         "name": "2015-10-21 - 2",
         "rawType": "float64",
         "type": "float"
        },
        {
         "name": "2015-10-21 - 3",
         "rawType": "float64",
         "type": "float"
        },
        {
         "name": "2015-10-21 - 4",
         "rawType": "float64",
         "type": "float"
        },
        {
         "name": "2015-11-06 - 1",
         "rawType": "float64",
         "type": "float"
        },
        {
         "name": "2015-11-06 - 2",
         "rawType": "float64",
         "type": "float"
        },
        {
         "name": "2015-11-06 - 3",
         "rawType": "float64",
         "type": "float"
        },
        {
         "name": "2015-11-06 - 4",
         "rawType": "float64",
         "type": "float"
        },
        {
         "name": "2015-08-12 - 1",
         "rawType": "float64",
         "type": "float"
        },
        {
         "name": "2015-08-12 - 2",
         "rawType": "float64",
         "type": "float"
        },
        {
         "name": "2015-08-12 - 3",
         "rawType": "float64",
         "type": "float"
        },
        {
         "name": "2015-08-12 - 4",
         "rawType": "float64",
         "type": "float"
        },
        {
         "name": "2015-11-05 - 1",
         "rawType": "float64",
         "type": "float"
        },
        {
         "name": "2015-11-05 - 2",
         "rawType": "float64",
         "type": "float"
        },
        {
         "name": "2015-11-05 - 3",
         "rawType": "float64",
         "type": "float"
        },
        {
         "name": "2015-11-05 - 4",
         "rawType": "float64",
         "type": "float"
        },
        {
         "name": "2015-10-22 - 1",
         "rawType": "float64",
         "type": "float"
        },
        {
         "name": "2015-10-22 - 2",
         "rawType": "float64",
         "type": "float"
        },
        {
         "name": "2015-10-22 - 3",
         "rawType": "float64",
         "type": "float"
        },
        {
         "name": "2015-10-22 - 4",
         "rawType": "float64",
         "type": "float"
        },
        {
         "name": "2015-11-12 - 1",
         "rawType": "float64",
         "type": "float"
        },
        {
         "name": "2015-11-12 - 2",
         "rawType": "float64",
         "type": "float"
        },
        {
         "name": "2015-11-12 - 3",
         "rawType": "float64",
         "type": "float"
        },
        {
         "name": "2015-11-12 - 4",
         "rawType": "float64",
         "type": "float"
        },
        {
         "name": "2015-10-29 - 1",
         "rawType": "float64",
         "type": "float"
        },
        {
         "name": "2015-10-29 - 2",
         "rawType": "float64",
         "type": "float"
        },
        {
         "name": "2015-10-29 - 3",
         "rawType": "float64",
         "type": "float"
        },
        {
         "name": "2015-10-29 - 4",
         "rawType": "float64",
         "type": "float"
        },
        {
         "name": "2015-09-10 - 1",
         "rawType": "float64",
         "type": "float"
        },
        {
         "name": "2015-09-10 - 2",
         "rawType": "float64",
         "type": "float"
        },
        {
         "name": "2015-09-10 - 3",
         "rawType": "float64",
         "type": "float"
        },
        {
         "name": "2015-09-10 - 4",
         "rawType": "float64",
         "type": "float"
        },
        {
         "name": "2015-09-09 - 1",
         "rawType": "float64",
         "type": "float"
        },
        {
         "name": "2015-09-09 - 2",
         "rawType": "float64",
         "type": "float"
        },
        {
         "name": "2015-09-09 - 3",
         "rawType": "float64",
         "type": "float"
        },
        {
         "name": "2015-09-09 - 4",
         "rawType": "float64",
         "type": "float"
        },
        {
         "name": "2015-11-18 - 1",
         "rawType": "float64",
         "type": "float"
        },
        {
         "name": "2015-11-18 - 2",
         "rawType": "float64",
         "type": "float"
        },
        {
         "name": "2015-11-18 - 3",
         "rawType": "float64",
         "type": "float"
        },
        {
         "name": "2015-11-18 - 4",
         "rawType": "float64",
         "type": "float"
        },
        {
         "name": "2015-08-26 - 1",
         "rawType": "float64",
         "type": "float"
        },
        {
         "name": "2015-08-26 - 2",
         "rawType": "float64",
         "type": "float"
        },
        {
         "name": "2015-08-26 - 3",
         "rawType": "float64",
         "type": "float"
        },
        {
         "name": "2015-08-26 - 4",
         "rawType": "float64",
         "type": "float"
        },
        {
         "name": "2015-11-10 - 1",
         "rawType": "float64",
         "type": "float"
        },
        {
         "name": "2015-11-10 - 2",
         "rawType": "float64",
         "type": "float"
        },
        {
         "name": "2015-11-10 - 3",
         "rawType": "float64",
         "type": "float"
        },
        {
         "name": "2015-11-10 - 4",
         "rawType": "float64",
         "type": "float"
        },
        {
         "name": "2015-11-13 - 1",
         "rawType": "float64",
         "type": "float"
        },
        {
         "name": "2015-11-13 - 2",
         "rawType": "float64",
         "type": "float"
        },
        {
         "name": "2015-11-13 - 3",
         "rawType": "float64",
         "type": "float"
        },
        {
         "name": "2015-11-13 - 4",
         "rawType": "float64",
         "type": "float"
        },
        {
         "name": "2015-10-15 - 1",
         "rawType": "float64",
         "type": "float"
        },
        {
         "name": "2015-10-15 - 2",
         "rawType": "float64",
         "type": "float"
        },
        {
         "name": "2015-10-15 - 3",
         "rawType": "float64",
         "type": "float"
        },
        {
         "name": "2015-10-15 - 4",
         "rawType": "float64",
         "type": "float"
        },
        {
         "name": "2015-11-21 - 1",
         "rawType": "float64",
         "type": "float"
        },
        {
         "name": "2015-11-21 - 2",
         "rawType": "float64",
         "type": "float"
        },
        {
         "name": "2015-11-21 - 3",
         "rawType": "float64",
         "type": "float"
        },
        {
         "name": "2015-11-21 - 4",
         "rawType": "float64",
         "type": "float"
        },
        {
         "name": "2015-09-30 - 1",
         "rawType": "float64",
         "type": "float"
        },
        {
         "name": "2015-09-30 - 2",
         "rawType": "float64",
         "type": "float"
        },
        {
         "name": "2015-09-30 - 3",
         "rawType": "float64",
         "type": "float"
        },
        {
         "name": "2015-09-30 - 4",
         "rawType": "float64",
         "type": "float"
        },
        {
         "name": "2015-10-30 - 1",
         "rawType": "float64",
         "type": "float"
        },
        {
         "name": "2015-10-30 - 2",
         "rawType": "float64",
         "type": "float"
        },
        {
         "name": "2015-10-30 - 3",
         "rawType": "float64",
         "type": "float"
        },
        {
         "name": "2015-10-30 - 4",
         "rawType": "float64",
         "type": "float"
        },
        {
         "name": "2015-09-16 - 1",
         "rawType": "float64",
         "type": "float"
        },
        {
         "name": "2015-09-16 - 2",
         "rawType": "float64",
         "type": "float"
        },
        {
         "name": "2015-09-16 - 3",
         "rawType": "float64",
         "type": "float"
        },
        {
         "name": "2015-09-16 - 4",
         "rawType": "float64",
         "type": "float"
        },
        {
         "name": "2015-09-17 - 1",
         "rawType": "float64",
         "type": "float"
        },
        {
         "name": "2015-09-17 - 2",
         "rawType": "float64",
         "type": "float"
        },
        {
         "name": "2015-09-17 - 3",
         "rawType": "float64",
         "type": "float"
        },
        {
         "name": "2015-09-17 - 4",
         "rawType": "float64",
         "type": "float"
        },
        {
         "name": "2015-11-28 - 1",
         "rawType": "float64",
         "type": "float"
        },
        {
         "name": "2015-11-28 - 2",
         "rawType": "float64",
         "type": "float"
        },
        {
         "name": "2015-11-28 - 3",
         "rawType": "float64",
         "type": "float"
        },
        {
         "name": "2015-11-28 - 4",
         "rawType": "float64",
         "type": "float"
        },
        {
         "name": "2015-10-01 - 1",
         "rawType": "float64",
         "type": "float"
        },
        {
         "name": "2015-10-01 - 2",
         "rawType": "float64",
         "type": "float"
        },
        {
         "name": "2015-10-01 - 3",
         "rawType": "float64",
         "type": "float"
        },
        {
         "name": "2015-10-01 - 4",
         "rawType": "float64",
         "type": "float"
        },
        {
         "name": "2015-11-26 - 1",
         "rawType": "float64",
         "type": "float"
        },
        {
         "name": "2015-11-26 - 2",
         "rawType": "float64",
         "type": "float"
        },
        {
         "name": "2015-11-26 - 3",
         "rawType": "float64",
         "type": "float"
        },
        {
         "name": "2015-11-26 - 4",
         "rawType": "float64",
         "type": "float"
        },
        {
         "name": "2015-09-11 - 1",
         "rawType": "float64",
         "type": "float"
        },
        {
         "name": "2015-09-11 - 2",
         "rawType": "float64",
         "type": "float"
        },
        {
         "name": "2015-09-11 - 3",
         "rawType": "float64",
         "type": "float"
        },
        {
         "name": "2015-09-11 - 4",
         "rawType": "float64",
         "type": "float"
        },
        {
         "name": "2015-09-18 - 1",
         "rawType": "float64",
         "type": "float"
        },
        {
         "name": "2015-09-18 - 2",
         "rawType": "float64",
         "type": "float"
        },
        {
         "name": "2015-09-18 - 3",
         "rawType": "float64",
         "type": "float"
        },
        {
         "name": "2015-09-18 - 4",
         "rawType": "float64",
         "type": "float"
        },
        {
         "name": "2015-10-16 - 1",
         "rawType": "float64",
         "type": "float"
        },
        {
         "name": "2015-10-16 - 2",
         "rawType": "float64",
         "type": "float"
        },
        {
         "name": "2015-10-16 - 3",
         "rawType": "float64",
         "type": "float"
        },
        {
         "name": "2015-10-16 - 4",
         "rawType": "float64",
         "type": "float"
        },
        {
         "name": "2015-11-27 - 1",
         "rawType": "float64",
         "type": "float"
        },
        {
         "name": "2015-11-27 - 2",
         "rawType": "float64",
         "type": "float"
        },
        {
         "name": "2015-11-27 - 3",
         "rawType": "float64",
         "type": "float"
        },
        {
         "name": "2015-11-27 - 4",
         "rawType": "float64",
         "type": "float"
        },
        {
         "name": "2015-10-02 - 1",
         "rawType": "float64",
         "type": "float"
        },
        {
         "name": "2015-10-02 - 2",
         "rawType": "float64",
         "type": "float"
        },
        {
         "name": "2015-10-02 - 3",
         "rawType": "float64",
         "type": "float"
        },
        {
         "name": "2015-10-02 - 4",
         "rawType": "float64",
         "type": "float"
        },
        {
         "name": "2015-10-07 - 1",
         "rawType": "float64",
         "type": "float"
        },
        {
         "name": "2015-10-07 - 2",
         "rawType": "float64",
         "type": "float"
        },
        {
         "name": "2015-10-07 - 3",
         "rawType": "float64",
         "type": "float"
        },
        {
         "name": "2015-10-07 - 4",
         "rawType": "float64",
         "type": "float"
        },
        {
         "name": "2015-11-07 - 1",
         "rawType": "float64",
         "type": "float"
        },
        {
         "name": "2015-11-07 - 2",
         "rawType": "float64",
         "type": "float"
        },
        {
         "name": "2015-11-07 - 3",
         "rawType": "float64",
         "type": "float"
        },
        {
         "name": "2015-11-07 - 4",
         "rawType": "float64",
         "type": "float"
        },
        {
         "name": "2015-08-28 - 1",
         "rawType": "float64",
         "type": "float"
        },
        {
         "name": "2015-08-28 - 2",
         "rawType": "float64",
         "type": "float"
        },
        {
         "name": "2015-08-28 - 3",
         "rawType": "float64",
         "type": "float"
        },
        {
         "name": "2015-08-28 - 4",
         "rawType": "float64",
         "type": "float"
        },
        {
         "name": "2015-08-27 - 1",
         "rawType": "float64",
         "type": "float"
        },
        {
         "name": "2015-08-27 - 2",
         "rawType": "float64",
         "type": "float"
        },
        {
         "name": "2015-08-27 - 3",
         "rawType": "float64",
         "type": "float"
        },
        {
         "name": "2015-08-27 - 4",
         "rawType": "float64",
         "type": "float"
        },
        {
         "name": "2015-10-27 - 1",
         "rawType": "float64",
         "type": "float"
        },
        {
         "name": "2015-10-27 - 2",
         "rawType": "float64",
         "type": "float"
        },
        {
         "name": "2015-10-27 - 3",
         "rawType": "float64",
         "type": "float"
        },
        {
         "name": "2015-10-27 - 4",
         "rawType": "float64",
         "type": "float"
        },
        {
         "name": "2015-11-03 - 1",
         "rawType": "float64",
         "type": "float"
        },
        {
         "name": "2015-11-03 - 2",
         "rawType": "float64",
         "type": "float"
        },
        {
         "name": "2015-11-03 - 3",
         "rawType": "float64",
         "type": "float"
        },
        {
         "name": "2015-11-03 - 4",
         "rawType": "float64",
         "type": "float"
        },
        {
         "name": "2015-08-13 - 1",
         "rawType": "float64",
         "type": "float"
        },
        {
         "name": "2015-08-13 - 2",
         "rawType": "float64",
         "type": "float"
        },
        {
         "name": "2015-08-13 - 3",
         "rawType": "float64",
         "type": "float"
        },
        {
         "name": "2015-08-13 - 4",
         "rawType": "float64",
         "type": "float"
        },
        {
         "name": "2015-11-25 - 1",
         "rawType": "float64",
         "type": "float"
        },
        {
         "name": "2015-11-25 - 2",
         "rawType": "float64",
         "type": "float"
        },
        {
         "name": "2015-11-25 - 3",
         "rawType": "float64",
         "type": "float"
        },
        {
         "name": "2015-11-25 - 4",
         "rawType": "float64",
         "type": "float"
        }
       ],
       "conversionMethod": "pd.DataFrame",
       "ref": "f1e13b8c-1717-48ab-a588-ff716c3ef7fb",
       "rows": [
        [
         "0",
         "Aloft Harlem",
         "-1.0",
         "-1.0",
         "-1.0",
         "-1.0",
         "1381.0",
         "-1.0",
         "1164.0",
         "-1.0",
         "1317.0",
         "-1.0",
         "-1.0",
         "-1.0",
         "-1.0",
         "-1.0",
         "-1.0",
         "-1.0",
         "1537.0",
         "-1.0",
         "-1.0",
         "-1.0",
         "1175.0",
         "-1.0",
         "1249.0",
         "-1.0",
         "-1.0",
         "-1.0",
         "-1.0",
         "-1.0",
         "-1.0",
         "-1.0",
         "-1.0",
         "-1.0",
         "-1.0",
         "-1.0",
         "-1.0",
         "-1.0",
         "-1.0",
         "-1.0",
         "1225.0",
         "-1.0",
         "-1.0",
         "-1.0",
         "-1.0",
         "-1.0",
         "-1.0",
         "-1.0",
         "-1.0",
         "-1.0",
         "1065.0",
         "1065.0",
         "1065.0",
         "1065.0",
         "-1.0",
         "-1.0",
         "-1.0",
         "-1.0",
         "-1.0",
         "-1.0",
         "-1.0",
         "-1.0",
         "-1.0",
         "-1.0",
         "-1.0",
         "-1.0",
         "-1.0",
         "-1.0",
         "-1.0",
         "-1.0",
         "-1.0",
         "-1.0",
         "-1.0",
         "-1.0",
         "-1.0",
         "-1.0",
         "-1.0",
         "-1.0",
         "-1.0",
         "-1.0",
         "-1.0",
         "-1.0",
         "1120.0",
         "1164.0",
         "-1.0",
         "-1.0",
         "1443.0",
         "-1.0",
         "-1.0",
         "-1.0",
         "-1.0",
         "-1.0",
         "-1.0",
         "-1.0",
         "-1.0",
         "-1.0",
         "-1.0",
         "-1.0",
         "-1.0",
         "-1.0",
         "-1.0",
         "-1.0",
         "-1.0",
         "-1.0",
         "-1.0",
         "-1.0",
         "-1.0",
         "-1.0",
         "-1.0",
         "-1.0",
         "-1.0",
         "-1.0",
         "-1.0",
         "-1.0",
         "-1.0",
         "-1.0",
         "-1.0",
         "-1.0",
         "-1.0",
         "-1.0",
         "1240.0",
         "-1.0",
         "-1.0",
         "-1.0",
         "-1.0",
         "-1.0",
         "-1.0",
         "1272.0",
         "1326.0",
         "1381.0",
         "-1.0",
         "-1.0",
         "1284.0",
         "-1.0",
         "-1.0",
         "-1.0",
         "-1.0",
         "-1.0",
         "-1.0",
         "1040.0",
         "1043.0",
         "988.0",
         "-1.0",
         "-1.0",
         "-1.0",
         "-1.0",
         "-1.0",
         "1220.0",
         "-1.0",
         "-1.0",
         "1106.0",
         "-1.0",
         "-1.0",
         "-1.0",
         "-1.0",
         "-1.0",
         "-1.0",
         "-1.0",
         "-1.0",
         "-1.0",
         "-1.0",
         "-1.0"
        ],
        [
         "1",
         "Andaz 5th Avenue - a concept by Hyatt",
         "-1.0",
         "1982.0",
         "2375.0",
         "-1.0",
         "-1.0",
         "2435.0",
         "-1.0",
         "-1.0",
         "2051.0",
         "2375.0",
         "2385.0",
         "2197.0",
         "-1.0",
         "-1.0",
         "-1.0",
         "2028.0",
         "2116.0",
         "2132.0",
         "-1.0",
         "-1.0",
         "-1.0",
         "2367.0",
         "-1.0",
         "-1.0",
         "2063.0",
         "-1.0",
         "-1.0",
         "2021.0",
         "-1.0",
         "-1.0",
         "1665.0",
         "-1.0",
         "1995.0",
         "-1.0",
         "-1.0",
         "-1.0",
         "2066.0",
         "-1.0",
         "-1.0",
         "-1.0",
         "2046.0",
         "1877.0",
         "2022.0",
         "2066.0",
         "2125.0",
         "2775.0",
         "-1.0",
         "-1.0",
         "2345.0",
         "-1.0",
         "-1.0",
         "-1.0",
         "-1.0",
         "-1.0",
         "2935.0",
         "-1.0",
         "-1.0",
         "-1.0",
         "-1.0",
         "-1.0",
         "-1.0",
         "-1.0",
         "-1.0",
         "-1.0",
         "-1.0",
         "-1.0",
         "-1.0",
         "-1.0",
         "1871.0",
         "1900.0",
         "1848.0",
         "2227.0",
         "2495.0",
         "-1.0",
         "-1.0",
         "-1.0",
         "-1.0",
         "1502.0",
         "1489.0",
         "1353.0",
         "-1.0",
         "2485.0",
         "2515.0",
         "-1.0",
         "1886.0",
         "-1.0",
         "-1.0",
         "-1.0",
         "-1.0",
         "-1.0",
         "2609.0",
         "2750.0",
         "2116.0",
         "2299.0",
         "2371.0",
         "2885.0",
         "2884.0",
         "2161.0",
         "2604.0",
         "2944.0",
         "2185.0",
         "2365.0",
         "2885.0",
         "2775.0",
         "2039.0",
         "-1.0",
         "2181.0",
         "-1.0",
         "2175.0",
         "2515.0",
         "2425.0",
         "-1.0",
         "1976.0",
         "2535.0",
         "2177.0",
         "2026.0",
         "2195.0",
         "-1.0",
         "2775.0",
         "-1.0",
         "-1.0",
         "2778.0",
         "2077.0",
         "2462.0",
         "2145.0",
         "-1.0",
         "2475.0",
         "2255.0",
         "-1.0",
         "2605.0",
         "-1.0",
         "-1.0",
         "-1.0",
         "-1.0",
         "2606.0",
         "2520.0",
         "-1.0",
         "-1.0",
         "-1.0",
         "-1.0",
         "-1.0",
         "-1.0",
         "1658.0",
         "-1.0",
         "-1.0",
         "-1.0",
         "-1.0",
         "-1.0",
         "-1.0",
         "-1.0",
         "-1.0",
         "-1.0",
         "-1.0",
         "-1.0",
         "-1.0",
         "1339.0",
         "-1.0",
         "1502.0",
         "2103.0",
         "2103.0"
        ],
        [
         "2",
         "Andaz Wall Street - a concept by Hyatt",
         "1078.0",
         "1305.0",
         "1430.0",
         "-1.0",
         "1625.0",
         "1925.0",
         "1900.0",
         "-1.0",
         "-1.0",
         "1575.0",
         "1845.0",
         "-1.0",
         "-1.0",
         "-1.0",
         "-1.0",
         "-1.0",
         "1670.0",
         "1525.0",
         "1840.0",
         "1965.0",
         "1925.0",
         "1665.0",
         "1920.0",
         "2025.0",
         "1545.0",
         "-1.0",
         "-1.0",
         "1325.0",
         "1365.0",
         "1325.0",
         "1355.0",
         "-1.0",
         "1535.0",
         "1525.0",
         "1465.0",
         "-1.0",
         "1750.0",
         "1800.0",
         "1765.0",
         "1805.0",
         "1352.0",
         "1401.0",
         "1315.0",
         "1127.0",
         "1700.0",
         "1773.0",
         "1800.0",
         "-1.0",
         "-1.0",
         "2000.0",
         "1645.0",
         "1665.0",
         "-1.0",
         "-1.0",
         "1665.0",
         "-1.0",
         "1055.0",
         "-1.0",
         "-1.0",
         "-1.0",
         "-1.0",
         "-1.0",
         "-1.0",
         "-1.0",
         "-1.0",
         "1352.0",
         "1546.0",
         "1619.0",
         "1485.0",
         "1835.0",
         "1496.0",
         "-1.0",
         "-1.0",
         "1544.0",
         "-1.0",
         "1850.0",
         "-1.0",
         "995.0",
         "975.0",
         "1010.0",
         "-1.0",
         "-1.0",
         "1645.0",
         "2710.0",
         "1865.0",
         "1845.0",
         "1575.0",
         "-1.0",
         "-1.0",
         "-1.0",
         "-1.0",
         "-1.0",
         "1850.0",
         "1885.0",
         "1865.0",
         "-1.0",
         "1749.0",
         "1578.0",
         "-1.0",
         "-1.0",
         "-1.0",
         "1692.0",
         "-1.0",
         "1535.0",
         "1300.0",
         "1381.0",
         "1138.0",
         "1098.0",
         "-1.0",
         "-1.0",
         "-1.0",
         "-1.0",
         "1885.0",
         "1920.0",
         "1845.0",
         "1855.0",
         "-1.0",
         "-1.0",
         "-1.0",
         "-1.0",
         "2066.0",
         "1484.0",
         "1371.0",
         "1785.0",
         "-1.0",
         "-1.0",
         "1682.0",
         "-1.0",
         "2310.0",
         "-1.0",
         "2350.0",
         "-1.0",
         "-1.0",
         "-1.0",
         "1575.0",
         "-1.0",
         "-1.0",
         "-1.0",
         "-1.0",
         "-1.0",
         "1165.0",
         "-1.0",
         "-1.0",
         "-1.0",
         "-1.0",
         "2025.0",
         "-1.0",
         "2120.0",
         "2150.0",
         "1940.0",
         "2060.0",
         "2185.0",
         "-1.0",
         "-1.0",
         "-1.0",
         "-1.0",
         "1013.0",
         "1029.0",
         "990.0",
         "-1.0"
        ],
        [
         "3",
         "Baccarat Hotel and Residences New York",
         "-1.0",
         "-1.0",
         "-1.0",
         "-1.0",
         "-1.0",
         "-1.0",
         "-1.0",
         "-1.0",
         "-1.0",
         "-1.0",
         "-1.0",
         "-1.0",
         "-1.0",
         "-1.0",
         "-1.0",
         "-1.0",
         "-1.0",
         "-1.0",
         "-1.0",
         "-1.0",
         "-1.0",
         "-1.0",
         "-1.0",
         "-1.0",
         "-1.0",
         "-1.0",
         "-1.0",
         "-1.0",
         "-1.0",
         "-1.0",
         "-1.0",
         "-1.0",
         "-1.0",
         "-1.0",
         "-1.0",
         "-1.0",
         "-1.0",
         "-1.0",
         "-1.0",
         "-1.0",
         "3775.0",
         "-1.0",
         "-1.0",
         "-1.0",
         "-1.0",
         "-1.0",
         "-1.0",
         "-1.0",
         "5500.0",
         "-1.0",
         "-1.0",
         "-1.0",
         "-1.0",
         "-1.0",
         "-1.0",
         "-1.0",
         "3650.0",
         "-1.0",
         "-1.0",
         "-1.0",
         "-1.0",
         "-1.0",
         "-1.0",
         "-1.0",
         "-1.0",
         "-1.0",
         "-1.0",
         "-1.0",
         "3775.0",
         "-1.0",
         "-1.0",
         "-1.0",
         "-1.0",
         "-1.0",
         "-1.0",
         "-1.0",
         "3575.0",
         "-1.0",
         "-1.0",
         "-1.0",
         "-1.0",
         "-1.0",
         "-1.0",
         "-1.0",
         "-1.0",
         "-1.0",
         "-1.0",
         "-1.0",
         "-1.0",
         "-1.0",
         "-1.0",
         "-1.0",
         "-1.0",
         "-1.0",
         "-1.0",
         "-1.0",
         "-1.0",
         "-1.0",
         "-1.0",
         "-1.0",
         "-1.0",
         "-1.0",
         "-1.0",
         "-1.0",
         "3600.0",
         "-1.0",
         "-1.0",
         "-1.0",
         "-1.0",
         "-1.0",
         "-1.0",
         "-1.0",
         "-1.0",
         "-1.0",
         "-1.0",
         "-1.0",
         "-1.0",
         "-1.0",
         "-1.0",
         "-1.0",
         "-1.0",
         "5225.0",
         "5225.0",
         "4250.0",
         "-1.0",
         "-1.0",
         "-1.0",
         "-1.0",
         "-1.0",
         "-1.0",
         "-1.0",
         "-1.0",
         "-1.0",
         "-1.0",
         "-1.0",
         "-1.0",
         "-1.0",
         "-1.0",
         "-1.0",
         "-1.0",
         "-1.0",
         "-1.0",
         "-1.0",
         "-1.0",
         "-1.0",
         "-1.0",
         "-1.0",
         "-1.0",
         "-1.0",
         "-1.0",
         "-1.0",
         "-1.0",
         "-1.0",
         "-1.0",
         "-1.0",
         "-1.0",
         "-1.0",
         "-1.0",
         "-1.0",
         "-1.0"
        ],
        [
         "4",
         "Bentley Hotel",
         "-1.0",
         "-1.0",
         "-1.0",
         "-1.0",
         "-1.0",
         "-1.0",
         "-1.0",
         "-1.0",
         "-1.0",
         "-1.0",
         "-1.0",
         "-1.0",
         "-1.0",
         "-1.0",
         "-1.0",
         "-1.0",
         "-1.0",
         "-1.0",
         "-1.0",
         "-1.0",
         "1405.0",
         "1403.0",
         "1394.0",
         "1389.0",
         "-1.0",
         "-1.0",
         "-1.0",
         "-1.0",
         "-1.0",
         "-1.0",
         "-1.0",
         "-1.0",
         "1184.0",
         "1138.0",
         "1133.0",
         "1179.0",
         "-1.0",
         "-1.0",
         "-1.0",
         "-1.0",
         "-1.0",
         "-1.0",
         "-1.0",
         "-1.0",
         "-1.0",
         "-1.0",
         "2076.0",
         "-1.0",
         "-1.0",
         "-1.0",
         "-1.0",
         "-1.0",
         "-1.0",
         "-1.0",
         "-1.0",
         "-1.0",
         "-1.0",
         "-1.0",
         "-1.0",
         "-1.0",
         "-1.0",
         "-1.0",
         "-1.0",
         "-1.0",
         "-1.0",
         "-1.0",
         "-1.0",
         "-1.0",
         "-1.0",
         "-1.0",
         "-1.0",
         "-1.0",
         "-1.0",
         "-1.0",
         "2923.0",
         "-1.0",
         "868.0",
         "-1.0",
         "1488.0",
         "-1.0",
         "-1.0",
         "-1.0",
         "-1.0",
         "-1.0",
         "-1.0",
         "1798.0",
         "1889.0",
         "-1.0",
         "-1.0",
         "-1.0",
         "-1.0",
         "-1.0",
         "-1.0",
         "-1.0",
         "-1.0",
         "-1.0",
         "-1.0",
         "-1.0",
         "1104.0",
         "-1.0",
         "-1.0",
         "-1.0",
         "-1.0",
         "-1.0",
         "-1.0",
         "-1.0",
         "-1.0",
         "-1.0",
         "-1.0",
         "-1.0",
         "-1.0",
         "-1.0",
         "-1.0",
         "-1.0",
         "-1.0",
         "-1.0",
         "-1.0",
         "-1.0",
         "-1.0",
         "-1.0",
         "-1.0",
         "-1.0",
         "-1.0",
         "-1.0",
         "-1.0",
         "-1.0",
         "-1.0",
         "-1.0",
         "-1.0",
         "-1.0",
         "-1.0",
         "-1.0",
         "-1.0",
         "-1.0",
         "-1.0",
         "-1.0",
         "-1.0",
         "-1.0",
         "-1.0",
         "-1.0",
         "-1.0",
         "-1.0",
         "980.0",
         "-1.0",
         "-1.0",
         "-1.0",
         "2985.0",
         "-1.0",
         "-1.0",
         "-1.0",
         "-1.0",
         "-1.0",
         "-1.0",
         "-1.0",
         "-1.0",
         "-1.0",
         "-1.0",
         "2023.0",
         "2041.0",
         "-1.0"
        ]
       ],
       "shape": {
        "columns": 161,
        "rows": 5
       }
      },
      "text/html": [
       "<div>\n",
       "<style scoped>\n",
       "    .dataframe tbody tr th:only-of-type {\n",
       "        vertical-align: middle;\n",
       "    }\n",
       "\n",
       "    .dataframe tbody tr th {\n",
       "        vertical-align: top;\n",
       "    }\n",
       "\n",
       "    .dataframe thead th {\n",
       "        text-align: right;\n",
       "    }\n",
       "</style>\n",
       "<table border=\"1\" class=\"dataframe\">\n",
       "  <thead>\n",
       "    <tr style=\"text-align: right;\">\n",
       "      <th></th>\n",
       "      <th>Hotel Name</th>\n",
       "      <th>2015-11-11 - 1</th>\n",
       "      <th>2015-11-11 - 2</th>\n",
       "      <th>2015-11-11 - 3</th>\n",
       "      <th>...</th>\n",
       "      <th>2015-11-25 - 1</th>\n",
       "      <th>2015-11-25 - 2</th>\n",
       "      <th>2015-11-25 - 3</th>\n",
       "      <th>2015-11-25 - 4</th>\n",
       "    </tr>\n",
       "  </thead>\n",
       "  <tbody>\n",
       "    <tr>\n",
       "      <th>0</th>\n",
       "      <td>Aloft Harlem</td>\n",
       "      <td>-1.0</td>\n",
       "      <td>-1.0</td>\n",
       "      <td>-1.0</td>\n",
       "      <td>...</td>\n",
       "      <td>-1.0</td>\n",
       "      <td>-1.0</td>\n",
       "      <td>-1.0</td>\n",
       "      <td>-1.0</td>\n",
       "    </tr>\n",
       "    <tr>\n",
       "      <th>1</th>\n",
       "      <td>Andaz 5th Avenue - a concept by Hyatt</td>\n",
       "      <td>-1.0</td>\n",
       "      <td>1982.0</td>\n",
       "      <td>2375.0</td>\n",
       "      <td>...</td>\n",
       "      <td>-1.0</td>\n",
       "      <td>1502.0</td>\n",
       "      <td>2103.0</td>\n",
       "      <td>2103.0</td>\n",
       "    </tr>\n",
       "    <tr>\n",
       "      <th>2</th>\n",
       "      <td>Andaz Wall Street - a concept by Hyatt</td>\n",
       "      <td>1078.0</td>\n",
       "      <td>1305.0</td>\n",
       "      <td>1430.0</td>\n",
       "      <td>...</td>\n",
       "      <td>1013.0</td>\n",
       "      <td>1029.0</td>\n",
       "      <td>990.0</td>\n",
       "      <td>-1.0</td>\n",
       "    </tr>\n",
       "    <tr>\n",
       "      <th>3</th>\n",
       "      <td>Baccarat Hotel and Residences New York</td>\n",
       "      <td>-1.0</td>\n",
       "      <td>-1.0</td>\n",
       "      <td>-1.0</td>\n",
       "      <td>...</td>\n",
       "      <td>-1.0</td>\n",
       "      <td>-1.0</td>\n",
       "      <td>-1.0</td>\n",
       "      <td>-1.0</td>\n",
       "    </tr>\n",
       "    <tr>\n",
       "      <th>4</th>\n",
       "      <td>Bentley Hotel</td>\n",
       "      <td>-1.0</td>\n",
       "      <td>-1.0</td>\n",
       "      <td>-1.0</td>\n",
       "      <td>...</td>\n",
       "      <td>-1.0</td>\n",
       "      <td>2023.0</td>\n",
       "      <td>2041.0</td>\n",
       "      <td>-1.0</td>\n",
       "    </tr>\n",
       "  </tbody>\n",
       "</table>\n",
       "<p>5 rows × 161 columns</p>\n",
       "</div>"
      ],
      "text/plain": [
       "                               Hotel Name  2015-11-11 - 1  2015-11-11 - 2  \\\n",
       "0                            Aloft Harlem            -1.0            -1.0   \n",
       "1   Andaz 5th Avenue - a concept by Hyatt            -1.0          1982.0   \n",
       "2  Andaz Wall Street - a concept by Hyatt          1078.0          1305.0   \n",
       "3  Baccarat Hotel and Residences New York            -1.0            -1.0   \n",
       "4                           Bentley Hotel            -1.0            -1.0   \n",
       "\n",
       "   2015-11-11 - 3  ...  2015-11-25 - 1  2015-11-25 - 2  2015-11-25 - 3  \\\n",
       "0            -1.0  ...            -1.0            -1.0            -1.0   \n",
       "1          2375.0  ...            -1.0          1502.0          2103.0   \n",
       "2          1430.0  ...          1013.0          1029.0           990.0   \n",
       "3            -1.0  ...            -1.0            -1.0            -1.0   \n",
       "4            -1.0  ...            -1.0          2023.0          2041.0   \n",
       "\n",
       "   2015-11-25 - 4  \n",
       "0            -1.0  \n",
       "1          2103.0  \n",
       "2            -1.0  \n",
       "3            -1.0  \n",
       "4            -1.0  \n",
       "\n",
       "[5 rows x 161 columns]"
      ]
     },
     "execution_count": 4,
     "metadata": {},
     "output_type": "execute_result"
    }
   ],
   "source": [
    "# Aggregate: get the lowest discount price for each (hotel, checkin date, discount code)\n",
    "grouped_prices = (\n",
    "    filtered_by_date\n",
    "    .groupby(['Hotel Name', 'Checkin Date', 'Discount Code'])['Discount Price']\n",
    "    .min()\n",
    "    .reset_index()\n",
    ")\n",
    "\n",
    "# Pivot the table: rows = hotels, columns = (date + code), values = price\n",
    "pivot_matrix = grouped_prices.pivot_table(\n",
    "    index='Hotel Name',\n",
    "    columns=['Checkin Date', 'Discount Code'],\n",
    "    values='Discount Price',\n",
    "    aggfunc='first'\n",
    ")\n",
    "\n",
    "# Create full column structure (40 dates × 4 discount codes)\n",
    "columns_index = pd.MultiIndex.from_product(\n",
    "    [top_checkin_dates, [1, 2, 3, 4]],\n",
    "    names=['Checkin Date', 'Discount Code']\n",
    ")\n",
    "\n",
    "# Reindex and fill missing values with -1\n",
    "pivot_matrix = pivot_matrix.reindex(columns=columns_index, fill_value=-1).fillna(-1)\n",
    "\n",
    "# Flatten the multi-index columns into string format: \"YYYY-MM-DD - Code\"\n",
    "pivot_matrix.columns = [\n",
    "    f\"{col[0]} - {col[1]}\" if isinstance(col, tuple) else col\n",
    "    for col in pivot_matrix.columns\n",
    "]\n",
    "\n",
    "# Reset index to turn hotel names into a column\n",
    "pivot_matrix = pivot_matrix.reset_index()\n",
    "\n",
    "# Preview the result\n",
    "print(\"Total lines (hotels) included:\", pivot_matrix.shape[0])\n",
    "print(\"Total columns (price per check-in date + discount code):\", pivot_matrix.shape[1])\n",
    "pd.set_option('display.max_columns', 8) # shows first 4 and last 4 columns\n",
    "pivot_matrix.head()"
   ]
  },
  {
   "cell_type": "markdown",
   "metadata": {},
   "source": [
    "#### Check for Missing Hotels  \n",
    "\n",
    "We verified whether any of the top 150 hotels were missing from the pivoted matrix.  \n",
    "If a hotel is missing but still has check-in records, it may indicate an issue in the preprocessing pipeline."
   ]
  },
  {
   "cell_type": "code",
   "execution_count": 5,
   "metadata": {},
   "outputs": [
    {
     "name": "stdout",
     "output_type": "stream",
     "text": [
      "Missing hotel(s): ['Embassy Suites Newark Airport']\n",
      "\n",
      "✅ All missing hotels have no records in the selected check-in dates — everything is valid.\n"
     ]
    }
   ],
   "source": [
    "# Check if any of the top hotels are missing from the pivoted matrix\n",
    "miss = list(set(top_hotels) - set(pivot_matrix['Hotel Name']))\n",
    "print(\"Missing hotel(s):\", miss)\n",
    "\n",
    "# Look for their original data in the filtered dataset\n",
    "has_records = False\n",
    "\n",
    "for name in miss:\n",
    "    hotel_data = filtered_by_date[filtered_by_date['Hotel Name'] == name]\n",
    "    if not hotel_data.empty:\n",
    "        has_records = True\n",
    "        print(f\"\\nRecords found for missing hotel '{name}':\")\n",
    "\n",
    "# Final message\n",
    "if has_records:\n",
    "    print(\"\\n⚠️ Some missing hotels still have check-in records — check your processing pipeline.\")\n",
    "else:\n",
    "    print(\"\\n✅ All missing hotels have no records in the selected check-in dates — everything is valid.\")\n"
   ]
  },
  {
   "cell_type": "markdown",
   "metadata": {},
   "source": [
    "### 3.4 - Normalize Discount Prices\n",
    "\n",
    "We normalized the price data for each hotel individually, scaling valid values to a 0–100 range where 0 is the hotel's lowest price and 100 is its highest.  \n",
    "This ensures that clustering is based on price patterns rather than absolute values, while keeping missing values (-1) unchanged.\n"
   ]
  },
  {
   "cell_type": "code",
   "execution_count": 6,
   "metadata": {},
   "outputs": [
    {
     "data": {
      "application/vnd.microsoft.datawrangler.viewer.v0+json": {
       "columns": [
        {
         "name": "index",
         "rawType": "int64",
         "type": "integer"
        },
        {
         "name": "2015-11-11 - 1",
         "rawType": "float64",
         "type": "float"
        },
        {
         "name": "2015-11-11 - 2",
         "rawType": "float64",
         "type": "float"
        },
        {
         "name": "2015-11-11 - 3",
         "rawType": "float64",
         "type": "float"
        },
        {
         "name": "2015-11-11 - 4",
         "rawType": "float64",
         "type": "float"
        },
        {
         "name": "2015-10-14 - 1",
         "rawType": "float64",
         "type": "float"
        },
        {
         "name": "2015-10-14 - 2",
         "rawType": "float64",
         "type": "float"
        },
        {
         "name": "2015-10-14 - 3",
         "rawType": "float64",
         "type": "float"
        },
        {
         "name": "2015-10-14 - 4",
         "rawType": "float64",
         "type": "float"
        },
        {
         "name": "2015-11-04 - 1",
         "rawType": "float64",
         "type": "float"
        },
        {
         "name": "2015-11-04 - 2",
         "rawType": "float64",
         "type": "float"
        },
        {
         "name": "2015-11-04 - 3",
         "rawType": "float64",
         "type": "float"
        },
        {
         "name": "2015-11-04 - 4",
         "rawType": "float64",
         "type": "float"
        },
        {
         "name": "2015-08-19 - 1",
         "rawType": "float64",
         "type": "float"
        },
        {
         "name": "2015-08-19 - 2",
         "rawType": "float64",
         "type": "float"
        },
        {
         "name": "2015-08-19 - 3",
         "rawType": "float64",
         "type": "float"
        },
        {
         "name": "2015-08-19 - 4",
         "rawType": "float64",
         "type": "float"
        },
        {
         "name": "2015-10-28 - 1",
         "rawType": "float64",
         "type": "float"
        },
        {
         "name": "2015-10-28 - 2",
         "rawType": "float64",
         "type": "float"
        },
        {
         "name": "2015-10-28 - 3",
         "rawType": "float64",
         "type": "float"
        },
        {
         "name": "2015-10-28 - 4",
         "rawType": "float64",
         "type": "float"
        },
        {
         "name": "2015-10-21 - 1",
         "rawType": "float64",
         "type": "float"
        },
        {
         "name": "2015-10-21 - 2",
         "rawType": "float64",
         "type": "float"
        },
        {
         "name": "2015-10-21 - 3",
         "rawType": "float64",
         "type": "float"
        },
        {
         "name": "2015-10-21 - 4",
         "rawType": "float64",
         "type": "float"
        },
        {
         "name": "2015-11-06 - 1",
         "rawType": "float64",
         "type": "float"
        },
        {
         "name": "2015-11-06 - 2",
         "rawType": "float64",
         "type": "float"
        },
        {
         "name": "2015-11-06 - 3",
         "rawType": "float64",
         "type": "float"
        },
        {
         "name": "2015-11-06 - 4",
         "rawType": "float64",
         "type": "float"
        },
        {
         "name": "2015-08-12 - 1",
         "rawType": "float64",
         "type": "float"
        },
        {
         "name": "2015-08-12 - 2",
         "rawType": "float64",
         "type": "float"
        },
        {
         "name": "2015-08-12 - 3",
         "rawType": "float64",
         "type": "float"
        },
        {
         "name": "2015-08-12 - 4",
         "rawType": "float64",
         "type": "float"
        },
        {
         "name": "2015-11-05 - 1",
         "rawType": "float64",
         "type": "float"
        },
        {
         "name": "2015-11-05 - 2",
         "rawType": "float64",
         "type": "float"
        },
        {
         "name": "2015-11-05 - 3",
         "rawType": "float64",
         "type": "float"
        },
        {
         "name": "2015-11-05 - 4",
         "rawType": "float64",
         "type": "float"
        },
        {
         "name": "2015-10-22 - 1",
         "rawType": "float64",
         "type": "float"
        },
        {
         "name": "2015-10-22 - 2",
         "rawType": "float64",
         "type": "float"
        },
        {
         "name": "2015-10-22 - 3",
         "rawType": "float64",
         "type": "float"
        },
        {
         "name": "2015-10-22 - 4",
         "rawType": "float64",
         "type": "float"
        },
        {
         "name": "2015-11-12 - 1",
         "rawType": "float64",
         "type": "float"
        },
        {
         "name": "2015-11-12 - 2",
         "rawType": "float64",
         "type": "float"
        },
        {
         "name": "2015-11-12 - 3",
         "rawType": "float64",
         "type": "float"
        },
        {
         "name": "2015-11-12 - 4",
         "rawType": "float64",
         "type": "float"
        },
        {
         "name": "2015-10-29 - 1",
         "rawType": "float64",
         "type": "float"
        },
        {
         "name": "2015-10-29 - 2",
         "rawType": "float64",
         "type": "float"
        },
        {
         "name": "2015-10-29 - 3",
         "rawType": "float64",
         "type": "float"
        },
        {
         "name": "2015-10-29 - 4",
         "rawType": "float64",
         "type": "float"
        },
        {
         "name": "2015-09-10 - 1",
         "rawType": "float64",
         "type": "float"
        },
        {
         "name": "2015-09-10 - 2",
         "rawType": "float64",
         "type": "float"
        },
        {
         "name": "2015-09-10 - 3",
         "rawType": "float64",
         "type": "float"
        },
        {
         "name": "2015-09-10 - 4",
         "rawType": "float64",
         "type": "float"
        },
        {
         "name": "2015-09-09 - 1",
         "rawType": "float64",
         "type": "float"
        },
        {
         "name": "2015-09-09 - 2",
         "rawType": "float64",
         "type": "float"
        },
        {
         "name": "2015-09-09 - 3",
         "rawType": "float64",
         "type": "float"
        },
        {
         "name": "2015-09-09 - 4",
         "rawType": "float64",
         "type": "float"
        },
        {
         "name": "2015-11-18 - 1",
         "rawType": "float64",
         "type": "float"
        },
        {
         "name": "2015-11-18 - 2",
         "rawType": "float64",
         "type": "float"
        },
        {
         "name": "2015-11-18 - 3",
         "rawType": "float64",
         "type": "float"
        },
        {
         "name": "2015-11-18 - 4",
         "rawType": "float64",
         "type": "float"
        },
        {
         "name": "2015-08-26 - 1",
         "rawType": "float64",
         "type": "float"
        },
        {
         "name": "2015-08-26 - 2",
         "rawType": "float64",
         "type": "float"
        },
        {
         "name": "2015-08-26 - 3",
         "rawType": "float64",
         "type": "float"
        },
        {
         "name": "2015-08-26 - 4",
         "rawType": "float64",
         "type": "float"
        },
        {
         "name": "2015-11-10 - 1",
         "rawType": "float64",
         "type": "float"
        },
        {
         "name": "2015-11-10 - 2",
         "rawType": "float64",
         "type": "float"
        },
        {
         "name": "2015-11-10 - 3",
         "rawType": "float64",
         "type": "float"
        },
        {
         "name": "2015-11-10 - 4",
         "rawType": "float64",
         "type": "float"
        },
        {
         "name": "2015-11-13 - 1",
         "rawType": "float64",
         "type": "float"
        },
        {
         "name": "2015-11-13 - 2",
         "rawType": "float64",
         "type": "float"
        },
        {
         "name": "2015-11-13 - 3",
         "rawType": "float64",
         "type": "float"
        },
        {
         "name": "2015-11-13 - 4",
         "rawType": "float64",
         "type": "float"
        },
        {
         "name": "2015-10-15 - 1",
         "rawType": "float64",
         "type": "float"
        },
        {
         "name": "2015-10-15 - 2",
         "rawType": "float64",
         "type": "float"
        },
        {
         "name": "2015-10-15 - 3",
         "rawType": "float64",
         "type": "float"
        },
        {
         "name": "2015-10-15 - 4",
         "rawType": "float64",
         "type": "float"
        },
        {
         "name": "2015-11-21 - 1",
         "rawType": "float64",
         "type": "float"
        },
        {
         "name": "2015-11-21 - 2",
         "rawType": "float64",
         "type": "float"
        },
        {
         "name": "2015-11-21 - 3",
         "rawType": "float64",
         "type": "float"
        },
        {
         "name": "2015-11-21 - 4",
         "rawType": "float64",
         "type": "float"
        },
        {
         "name": "2015-09-30 - 1",
         "rawType": "float64",
         "type": "float"
        },
        {
         "name": "2015-09-30 - 2",
         "rawType": "float64",
         "type": "float"
        },
        {
         "name": "2015-09-30 - 3",
         "rawType": "float64",
         "type": "float"
        },
        {
         "name": "2015-09-30 - 4",
         "rawType": "float64",
         "type": "float"
        },
        {
         "name": "2015-10-30 - 1",
         "rawType": "float64",
         "type": "float"
        },
        {
         "name": "2015-10-30 - 2",
         "rawType": "float64",
         "type": "float"
        },
        {
         "name": "2015-10-30 - 3",
         "rawType": "float64",
         "type": "float"
        },
        {
         "name": "2015-10-30 - 4",
         "rawType": "float64",
         "type": "float"
        },
        {
         "name": "2015-09-16 - 1",
         "rawType": "float64",
         "type": "float"
        },
        {
         "name": "2015-09-16 - 2",
         "rawType": "float64",
         "type": "float"
        },
        {
         "name": "2015-09-16 - 3",
         "rawType": "float64",
         "type": "float"
        },
        {
         "name": "2015-09-16 - 4",
         "rawType": "float64",
         "type": "float"
        },
        {
         "name": "2015-09-17 - 1",
         "rawType": "float64",
         "type": "float"
        },
        {
         "name": "2015-09-17 - 2",
         "rawType": "float64",
         "type": "float"
        },
        {
         "name": "2015-09-17 - 3",
         "rawType": "float64",
         "type": "float"
        },
        {
         "name": "2015-09-17 - 4",
         "rawType": "float64",
         "type": "float"
        },
        {
         "name": "2015-11-28 - 1",
         "rawType": "float64",
         "type": "float"
        },
        {
         "name": "2015-11-28 - 2",
         "rawType": "float64",
         "type": "float"
        },
        {
         "name": "2015-11-28 - 3",
         "rawType": "float64",
         "type": "float"
        },
        {
         "name": "2015-11-28 - 4",
         "rawType": "float64",
         "type": "float"
        },
        {
         "name": "2015-10-01 - 1",
         "rawType": "float64",
         "type": "float"
        },
        {
         "name": "2015-10-01 - 2",
         "rawType": "float64",
         "type": "float"
        },
        {
         "name": "2015-10-01 - 3",
         "rawType": "float64",
         "type": "float"
        },
        {
         "name": "2015-10-01 - 4",
         "rawType": "float64",
         "type": "float"
        },
        {
         "name": "2015-11-26 - 1",
         "rawType": "float64",
         "type": "float"
        },
        {
         "name": "2015-11-26 - 2",
         "rawType": "float64",
         "type": "float"
        },
        {
         "name": "2015-11-26 - 3",
         "rawType": "float64",
         "type": "float"
        },
        {
         "name": "2015-11-26 - 4",
         "rawType": "float64",
         "type": "float"
        },
        {
         "name": "2015-09-11 - 1",
         "rawType": "float64",
         "type": "float"
        },
        {
         "name": "2015-09-11 - 2",
         "rawType": "float64",
         "type": "float"
        },
        {
         "name": "2015-09-11 - 3",
         "rawType": "float64",
         "type": "float"
        },
        {
         "name": "2015-09-11 - 4",
         "rawType": "float64",
         "type": "float"
        },
        {
         "name": "2015-09-18 - 1",
         "rawType": "float64",
         "type": "float"
        },
        {
         "name": "2015-09-18 - 2",
         "rawType": "float64",
         "type": "float"
        },
        {
         "name": "2015-09-18 - 3",
         "rawType": "float64",
         "type": "float"
        },
        {
         "name": "2015-09-18 - 4",
         "rawType": "float64",
         "type": "float"
        },
        {
         "name": "2015-10-16 - 1",
         "rawType": "float64",
         "type": "float"
        },
        {
         "name": "2015-10-16 - 2",
         "rawType": "float64",
         "type": "float"
        },
        {
         "name": "2015-10-16 - 3",
         "rawType": "float64",
         "type": "float"
        },
        {
         "name": "2015-10-16 - 4",
         "rawType": "float64",
         "type": "float"
        },
        {
         "name": "2015-11-27 - 1",
         "rawType": "float64",
         "type": "float"
        },
        {
         "name": "2015-11-27 - 2",
         "rawType": "float64",
         "type": "float"
        },
        {
         "name": "2015-11-27 - 3",
         "rawType": "float64",
         "type": "float"
        },
        {
         "name": "2015-11-27 - 4",
         "rawType": "float64",
         "type": "float"
        },
        {
         "name": "2015-10-02 - 1",
         "rawType": "float64",
         "type": "float"
        },
        {
         "name": "2015-10-02 - 2",
         "rawType": "float64",
         "type": "float"
        },
        {
         "name": "2015-10-02 - 3",
         "rawType": "float64",
         "type": "float"
        },
        {
         "name": "2015-10-02 - 4",
         "rawType": "float64",
         "type": "float"
        },
        {
         "name": "2015-10-07 - 1",
         "rawType": "float64",
         "type": "float"
        },
        {
         "name": "2015-10-07 - 2",
         "rawType": "float64",
         "type": "float"
        },
        {
         "name": "2015-10-07 - 3",
         "rawType": "float64",
         "type": "float"
        },
        {
         "name": "2015-10-07 - 4",
         "rawType": "float64",
         "type": "float"
        },
        {
         "name": "2015-11-07 - 1",
         "rawType": "float64",
         "type": "float"
        },
        {
         "name": "2015-11-07 - 2",
         "rawType": "float64",
         "type": "float"
        },
        {
         "name": "2015-11-07 - 3",
         "rawType": "float64",
         "type": "float"
        },
        {
         "name": "2015-11-07 - 4",
         "rawType": "float64",
         "type": "float"
        },
        {
         "name": "2015-08-28 - 1",
         "rawType": "float64",
         "type": "float"
        },
        {
         "name": "2015-08-28 - 2",
         "rawType": "float64",
         "type": "float"
        },
        {
         "name": "2015-08-28 - 3",
         "rawType": "float64",
         "type": "float"
        },
        {
         "name": "2015-08-28 - 4",
         "rawType": "float64",
         "type": "float"
        },
        {
         "name": "2015-08-27 - 1",
         "rawType": "float64",
         "type": "float"
        },
        {
         "name": "2015-08-27 - 2",
         "rawType": "float64",
         "type": "float"
        },
        {
         "name": "2015-08-27 - 3",
         "rawType": "float64",
         "type": "float"
        },
        {
         "name": "2015-08-27 - 4",
         "rawType": "float64",
         "type": "float"
        },
        {
         "name": "2015-10-27 - 1",
         "rawType": "float64",
         "type": "float"
        },
        {
         "name": "2015-10-27 - 2",
         "rawType": "float64",
         "type": "float"
        },
        {
         "name": "2015-10-27 - 3",
         "rawType": "float64",
         "type": "float"
        },
        {
         "name": "2015-10-27 - 4",
         "rawType": "float64",
         "type": "float"
        },
        {
         "name": "2015-11-03 - 1",
         "rawType": "float64",
         "type": "float"
        },
        {
         "name": "2015-11-03 - 2",
         "rawType": "float64",
         "type": "float"
        },
        {
         "name": "2015-11-03 - 3",
         "rawType": "float64",
         "type": "float"
        },
        {
         "name": "2015-11-03 - 4",
         "rawType": "float64",
         "type": "float"
        },
        {
         "name": "2015-08-13 - 1",
         "rawType": "float64",
         "type": "float"
        },
        {
         "name": "2015-08-13 - 2",
         "rawType": "float64",
         "type": "float"
        },
        {
         "name": "2015-08-13 - 3",
         "rawType": "float64",
         "type": "float"
        },
        {
         "name": "2015-08-13 - 4",
         "rawType": "float64",
         "type": "float"
        },
        {
         "name": "2015-11-25 - 1",
         "rawType": "float64",
         "type": "float"
        },
        {
         "name": "2015-11-25 - 2",
         "rawType": "float64",
         "type": "float"
        },
        {
         "name": "2015-11-25 - 3",
         "rawType": "float64",
         "type": "float"
        },
        {
         "name": "2015-11-25 - 4",
         "rawType": "float64",
         "type": "float"
        }
       ],
       "conversionMethod": "pd.DataFrame",
       "ref": "c8f7d0a9-f8f0-46b9-90bf-4a067a411cec",
       "rows": [
        [
         "0",
         "-1.0",
         "-1.0",
         "-1.0",
         "-1.0",
         "72.0",
         "-1.0",
         "32.0",
         "-1.0",
         "60.0",
         "-1.0",
         "-1.0",
         "-1.0",
         "-1.0",
         "-1.0",
         "-1.0",
         "-1.0",
         "100.0",
         "-1.0",
         "-1.0",
         "-1.0",
         "34.0",
         "-1.0",
         "48.0",
         "-1.0",
         "-1.0",
         "-1.0",
         "-1.0",
         "-1.0",
         "-1.0",
         "-1.0",
         "-1.0",
         "-1.0",
         "-1.0",
         "-1.0",
         "-1.0",
         "-1.0",
         "-1.0",
         "-1.0",
         "43.0",
         "-1.0",
         "-1.0",
         "-1.0",
         "-1.0",
         "-1.0",
         "-1.0",
         "-1.0",
         "-1.0",
         "-1.0",
         "14.0",
         "14.0",
         "14.0",
         "14.0",
         "-1.0",
         "-1.0",
         "-1.0",
         "-1.0",
         "-1.0",
         "-1.0",
         "-1.0",
         "-1.0",
         "-1.0",
         "-1.0",
         "-1.0",
         "-1.0",
         "-1.0",
         "-1.0",
         "-1.0",
         "-1.0",
         "-1.0",
         "-1.0",
         "-1.0",
         "-1.0",
         "-1.0",
         "-1.0",
         "-1.0",
         "-1.0",
         "-1.0",
         "-1.0",
         "-1.0",
         "-1.0",
         "24.0",
         "32.0",
         "-1.0",
         "-1.0",
         "83.0",
         "-1.0",
         "-1.0",
         "-1.0",
         "-1.0",
         "-1.0",
         "-1.0",
         "-1.0",
         "-1.0",
         "-1.0",
         "-1.0",
         "-1.0",
         "-1.0",
         "-1.0",
         "-1.0",
         "-1.0",
         "-1.0",
         "-1.0",
         "-1.0",
         "-1.0",
         "-1.0",
         "-1.0",
         "-1.0",
         "-1.0",
         "-1.0",
         "-1.0",
         "-1.0",
         "-1.0",
         "-1.0",
         "-1.0",
         "-1.0",
         "-1.0",
         "-1.0",
         "-1.0",
         "46.0",
         "-1.0",
         "-1.0",
         "-1.0",
         "-1.0",
         "-1.0",
         "-1.0",
         "52.0",
         "62.0",
         "72.0",
         "-1.0",
         "-1.0",
         "54.0",
         "-1.0",
         "-1.0",
         "-1.0",
         "-1.0",
         "-1.0",
         "-1.0",
         "9.0",
         "10.0",
         "0.0",
         "-1.0",
         "-1.0",
         "-1.0",
         "-1.0",
         "-1.0",
         "42.0",
         "-1.0",
         "-1.0",
         "21.0",
         "-1.0",
         "-1.0",
         "-1.0",
         "-1.0",
         "-1.0",
         "-1.0",
         "-1.0",
         "-1.0",
         "-1.0",
         "-1.0",
         "-1.0"
        ],
        [
         "1",
         "-1.0",
         "40.0",
         "65.0",
         "-1.0",
         "-1.0",
         "68.0",
         "-1.0",
         "-1.0",
         "44.0",
         "65.0",
         "65.0",
         "53.0",
         "-1.0",
         "-1.0",
         "-1.0",
         "43.0",
         "48.0",
         "49.0",
         "-1.0",
         "-1.0",
         "-1.0",
         "64.0",
         "-1.0",
         "-1.0",
         "45.0",
         "-1.0",
         "-1.0",
         "42.0",
         "-1.0",
         "-1.0",
         "20.0",
         "-1.0",
         "41.0",
         "-1.0",
         "-1.0",
         "-1.0",
         "45.0",
         "-1.0",
         "-1.0",
         "-1.0",
         "44.0",
         "34.0",
         "43.0",
         "45.0",
         "49.0",
         "89.0",
         "-1.0",
         "-1.0",
         "63.0",
         "-1.0",
         "-1.0",
         "-1.0",
         "-1.0",
         "-1.0",
         "99.0",
         "-1.0",
         "-1.0",
         "-1.0",
         "-1.0",
         "-1.0",
         "-1.0",
         "-1.0",
         "-1.0",
         "-1.0",
         "-1.0",
         "-1.0",
         "-1.0",
         "-1.0",
         "33.0",
         "35.0",
         "32.0",
         "55.0",
         "72.0",
         "-1.0",
         "-1.0",
         "-1.0",
         "-1.0",
         "10.0",
         "9.0",
         "1.0",
         "-1.0",
         "71.0",
         "73.0",
         "-1.0",
         "34.0",
         "-1.0",
         "-1.0",
         "-1.0",
         "-1.0",
         "-1.0",
         "79.0",
         "88.0",
         "48.0",
         "60.0",
         "64.0",
         "96.0",
         "96.0",
         "51.0",
         "79.0",
         "100.0",
         "53.0",
         "64.0",
         "96.0",
         "89.0",
         "44.0",
         "-1.0",
         "52.0",
         "-1.0",
         "52.0",
         "73.0",
         "68.0",
         "-1.0",
         "40.0",
         "75.0",
         "52.0",
         "43.0",
         "53.0",
         "-1.0",
         "89.0",
         "-1.0",
         "-1.0",
         "90.0",
         "46.0",
         "70.0",
         "50.0",
         "-1.0",
         "71.0",
         "57.0",
         "-1.0",
         "79.0",
         "-1.0",
         "-1.0",
         "-1.0",
         "-1.0",
         "79.0",
         "74.0",
         "-1.0",
         "-1.0",
         "-1.0",
         "-1.0",
         "-1.0",
         "-1.0",
         "20.0",
         "-1.0",
         "-1.0",
         "-1.0",
         "-1.0",
         "-1.0",
         "-1.0",
         "-1.0",
         "-1.0",
         "-1.0",
         "-1.0",
         "-1.0",
         "-1.0",
         "0.0",
         "-1.0",
         "10.0",
         "48.0",
         "48.0"
        ],
        [
         "2",
         "6.0",
         "19.0",
         "26.0",
         "-1.0",
         "37.0",
         "55.0",
         "53.0",
         "-1.0",
         "-1.0",
         "35.0",
         "50.0",
         "-1.0",
         "-1.0",
         "-1.0",
         "-1.0",
         "-1.0",
         "40.0",
         "32.0",
         "50.0",
         "57.0",
         "55.0",
         "40.0",
         "54.0",
         "61.0",
         "33.0",
         "-1.0",
         "-1.0",
         "20.0",
         "22.0",
         "20.0",
         "22.0",
         "-1.0",
         "32.0",
         "32.0",
         "28.0",
         "-1.0",
         "45.0",
         "48.0",
         "46.0",
         "48.0",
         "22.0",
         "25.0",
         "20.0",
         "9.0",
         "42.0",
         "46.0",
         "48.0",
         "-1.0",
         "-1.0",
         "59.0",
         "39.0",
         "40.0",
         "-1.0",
         "-1.0",
         "40.0",
         "-1.0",
         "5.0",
         "-1.0",
         "-1.0",
         "-1.0",
         "-1.0",
         "-1.0",
         "-1.0",
         "-1.0",
         "-1.0",
         "22.0",
         "33.0",
         "37.0",
         "29.0",
         "50.0",
         "30.0",
         "-1.0",
         "-1.0",
         "33.0",
         "-1.0",
         "50.0",
         "-1.0",
         "1.0",
         "0.0",
         "2.0",
         "-1.0",
         "-1.0",
         "39.0",
         "100.0",
         "51.0",
         "50.0",
         "35.0",
         "-1.0",
         "-1.0",
         "-1.0",
         "-1.0",
         "-1.0",
         "50.0",
         "52.0",
         "51.0",
         "-1.0",
         "45.0",
         "35.0",
         "-1.0",
         "-1.0",
         "-1.0",
         "41.0",
         "-1.0",
         "32.0",
         "19.0",
         "23.0",
         "9.0",
         "7.0",
         "-1.0",
         "-1.0",
         "-1.0",
         "-1.0",
         "52.0",
         "54.0",
         "50.0",
         "51.0",
         "-1.0",
         "-1.0",
         "-1.0",
         "-1.0",
         "63.0",
         "29.0",
         "23.0",
         "47.0",
         "-1.0",
         "-1.0",
         "41.0",
         "-1.0",
         "77.0",
         "-1.0",
         "79.0",
         "-1.0",
         "-1.0",
         "-1.0",
         "35.0",
         "-1.0",
         "-1.0",
         "-1.0",
         "-1.0",
         "-1.0",
         "11.0",
         "-1.0",
         "-1.0",
         "-1.0",
         "-1.0",
         "61.0",
         "-1.0",
         "66.0",
         "68.0",
         "56.0",
         "63.0",
         "70.0",
         "-1.0",
         "-1.0",
         "-1.0",
         "-1.0",
         "2.0",
         "3.0",
         "1.0",
         "-1.0"
        ],
        [
         "3",
         "-1.0",
         "-1.0",
         "-1.0",
         "-1.0",
         "-1.0",
         "-1.0",
         "-1.0",
         "-1.0",
         "-1.0",
         "-1.0",
         "-1.0",
         "-1.0",
         "-1.0",
         "-1.0",
         "-1.0",
         "-1.0",
         "-1.0",
         "-1.0",
         "-1.0",
         "-1.0",
         "-1.0",
         "-1.0",
         "-1.0",
         "-1.0",
         "-1.0",
         "-1.0",
         "-1.0",
         "-1.0",
         "-1.0",
         "-1.0",
         "-1.0",
         "-1.0",
         "-1.0",
         "-1.0",
         "-1.0",
         "-1.0",
         "-1.0",
         "-1.0",
         "-1.0",
         "-1.0",
         "10.0",
         "-1.0",
         "-1.0",
         "-1.0",
         "-1.0",
         "-1.0",
         "-1.0",
         "-1.0",
         "100.0",
         "-1.0",
         "-1.0",
         "-1.0",
         "-1.0",
         "-1.0",
         "-1.0",
         "-1.0",
         "4.0",
         "-1.0",
         "-1.0",
         "-1.0",
         "-1.0",
         "-1.0",
         "-1.0",
         "-1.0",
         "-1.0",
         "-1.0",
         "-1.0",
         "-1.0",
         "10.0",
         "-1.0",
         "-1.0",
         "-1.0",
         "-1.0",
         "-1.0",
         "-1.0",
         "-1.0",
         "0.0",
         "-1.0",
         "-1.0",
         "-1.0",
         "-1.0",
         "-1.0",
         "-1.0",
         "-1.0",
         "-1.0",
         "-1.0",
         "-1.0",
         "-1.0",
         "-1.0",
         "-1.0",
         "-1.0",
         "-1.0",
         "-1.0",
         "-1.0",
         "-1.0",
         "-1.0",
         "-1.0",
         "-1.0",
         "-1.0",
         "-1.0",
         "-1.0",
         "-1.0",
         "-1.0",
         "-1.0",
         "1.0",
         "-1.0",
         "-1.0",
         "-1.0",
         "-1.0",
         "-1.0",
         "-1.0",
         "-1.0",
         "-1.0",
         "-1.0",
         "-1.0",
         "-1.0",
         "-1.0",
         "-1.0",
         "-1.0",
         "-1.0",
         "-1.0",
         "86.0",
         "86.0",
         "35.0",
         "-1.0",
         "-1.0",
         "-1.0",
         "-1.0",
         "-1.0",
         "-1.0",
         "-1.0",
         "-1.0",
         "-1.0",
         "-1.0",
         "-1.0",
         "-1.0",
         "-1.0",
         "-1.0",
         "-1.0",
         "-1.0",
         "-1.0",
         "-1.0",
         "-1.0",
         "-1.0",
         "-1.0",
         "-1.0",
         "-1.0",
         "-1.0",
         "-1.0",
         "-1.0",
         "-1.0",
         "-1.0",
         "-1.0",
         "-1.0",
         "-1.0",
         "-1.0",
         "-1.0",
         "-1.0",
         "-1.0",
         "-1.0"
        ],
        [
         "4",
         "-1.0",
         "-1.0",
         "-1.0",
         "-1.0",
         "-1.0",
         "-1.0",
         "-1.0",
         "-1.0",
         "-1.0",
         "-1.0",
         "-1.0",
         "-1.0",
         "-1.0",
         "-1.0",
         "-1.0",
         "-1.0",
         "-1.0",
         "-1.0",
         "-1.0",
         "-1.0",
         "25.0",
         "25.0",
         "25.0",
         "25.0",
         "-1.0",
         "-1.0",
         "-1.0",
         "-1.0",
         "-1.0",
         "-1.0",
         "-1.0",
         "-1.0",
         "15.0",
         "13.0",
         "13.0",
         "15.0",
         "-1.0",
         "-1.0",
         "-1.0",
         "-1.0",
         "-1.0",
         "-1.0",
         "-1.0",
         "-1.0",
         "-1.0",
         "-1.0",
         "57.0",
         "-1.0",
         "-1.0",
         "-1.0",
         "-1.0",
         "-1.0",
         "-1.0",
         "-1.0",
         "-1.0",
         "-1.0",
         "-1.0",
         "-1.0",
         "-1.0",
         "-1.0",
         "-1.0",
         "-1.0",
         "-1.0",
         "-1.0",
         "-1.0",
         "-1.0",
         "-1.0",
         "-1.0",
         "-1.0",
         "-1.0",
         "-1.0",
         "-1.0",
         "-1.0",
         "-1.0",
         "97.0",
         "-1.0",
         "0.0",
         "-1.0",
         "29.0",
         "-1.0",
         "-1.0",
         "-1.0",
         "-1.0",
         "-1.0",
         "-1.0",
         "44.0",
         "48.0",
         "-1.0",
         "-1.0",
         "-1.0",
         "-1.0",
         "-1.0",
         "-1.0",
         "-1.0",
         "-1.0",
         "-1.0",
         "-1.0",
         "-1.0",
         "11.0",
         "-1.0",
         "-1.0",
         "-1.0",
         "-1.0",
         "-1.0",
         "-1.0",
         "-1.0",
         "-1.0",
         "-1.0",
         "-1.0",
         "-1.0",
         "-1.0",
         "-1.0",
         "-1.0",
         "-1.0",
         "-1.0",
         "-1.0",
         "-1.0",
         "-1.0",
         "-1.0",
         "-1.0",
         "-1.0",
         "-1.0",
         "-1.0",
         "-1.0",
         "-1.0",
         "-1.0",
         "-1.0",
         "-1.0",
         "-1.0",
         "-1.0",
         "-1.0",
         "-1.0",
         "-1.0",
         "-1.0",
         "-1.0",
         "-1.0",
         "-1.0",
         "-1.0",
         "-1.0",
         "-1.0",
         "-1.0",
         "-1.0",
         "5.0",
         "-1.0",
         "-1.0",
         "-1.0",
         "100.0",
         "-1.0",
         "-1.0",
         "-1.0",
         "-1.0",
         "-1.0",
         "-1.0",
         "-1.0",
         "-1.0",
         "-1.0",
         "-1.0",
         "55.0",
         "55.0",
         "-1.0"
        ]
       ],
       "shape": {
        "columns": 160,
        "rows": 5
       }
      },
      "text/html": [
       "<div>\n",
       "<style scoped>\n",
       "    .dataframe tbody tr th:only-of-type {\n",
       "        vertical-align: middle;\n",
       "    }\n",
       "\n",
       "    .dataframe tbody tr th {\n",
       "        vertical-align: top;\n",
       "    }\n",
       "\n",
       "    .dataframe thead th {\n",
       "        text-align: right;\n",
       "    }\n",
       "</style>\n",
       "<table border=\"1\" class=\"dataframe\">\n",
       "  <thead>\n",
       "    <tr style=\"text-align: right;\">\n",
       "      <th></th>\n",
       "      <th>2015-11-11 - 1</th>\n",
       "      <th>2015-11-11 - 2</th>\n",
       "      <th>2015-11-11 - 3</th>\n",
       "      <th>2015-11-11 - 4</th>\n",
       "      <th>...</th>\n",
       "      <th>2015-11-25 - 1</th>\n",
       "      <th>2015-11-25 - 2</th>\n",
       "      <th>2015-11-25 - 3</th>\n",
       "      <th>2015-11-25 - 4</th>\n",
       "    </tr>\n",
       "  </thead>\n",
       "  <tbody>\n",
       "    <tr>\n",
       "      <th>0</th>\n",
       "      <td>-1.0</td>\n",
       "      <td>-1.0</td>\n",
       "      <td>-1.0</td>\n",
       "      <td>-1.0</td>\n",
       "      <td>...</td>\n",
       "      <td>-1.0</td>\n",
       "      <td>-1.0</td>\n",
       "      <td>-1.0</td>\n",
       "      <td>-1.0</td>\n",
       "    </tr>\n",
       "    <tr>\n",
       "      <th>1</th>\n",
       "      <td>-1.0</td>\n",
       "      <td>40.0</td>\n",
       "      <td>65.0</td>\n",
       "      <td>-1.0</td>\n",
       "      <td>...</td>\n",
       "      <td>-1.0</td>\n",
       "      <td>10.0</td>\n",
       "      <td>48.0</td>\n",
       "      <td>48.0</td>\n",
       "    </tr>\n",
       "    <tr>\n",
       "      <th>2</th>\n",
       "      <td>6.0</td>\n",
       "      <td>19.0</td>\n",
       "      <td>26.0</td>\n",
       "      <td>-1.0</td>\n",
       "      <td>...</td>\n",
       "      <td>2.0</td>\n",
       "      <td>3.0</td>\n",
       "      <td>1.0</td>\n",
       "      <td>-1.0</td>\n",
       "    </tr>\n",
       "    <tr>\n",
       "      <th>3</th>\n",
       "      <td>-1.0</td>\n",
       "      <td>-1.0</td>\n",
       "      <td>-1.0</td>\n",
       "      <td>-1.0</td>\n",
       "      <td>...</td>\n",
       "      <td>-1.0</td>\n",
       "      <td>-1.0</td>\n",
       "      <td>-1.0</td>\n",
       "      <td>-1.0</td>\n",
       "    </tr>\n",
       "    <tr>\n",
       "      <th>4</th>\n",
       "      <td>-1.0</td>\n",
       "      <td>-1.0</td>\n",
       "      <td>-1.0</td>\n",
       "      <td>-1.0</td>\n",
       "      <td>...</td>\n",
       "      <td>-1.0</td>\n",
       "      <td>55.0</td>\n",
       "      <td>55.0</td>\n",
       "      <td>-1.0</td>\n",
       "    </tr>\n",
       "  </tbody>\n",
       "</table>\n",
       "<p>5 rows × 160 columns</p>\n",
       "</div>"
      ],
      "text/plain": [
       "   2015-11-11 - 1  2015-11-11 - 2  2015-11-11 - 3  2015-11-11 - 4  ...  \\\n",
       "0            -1.0            -1.0            -1.0            -1.0  ...   \n",
       "1            -1.0            40.0            65.0            -1.0  ...   \n",
       "2             6.0            19.0            26.0            -1.0  ...   \n",
       "3            -1.0            -1.0            -1.0            -1.0  ...   \n",
       "4            -1.0            -1.0            -1.0            -1.0  ...   \n",
       "\n",
       "   2015-11-25 - 1  2015-11-25 - 2  2015-11-25 - 3  2015-11-25 - 4  \n",
       "0            -1.0            -1.0            -1.0            -1.0  \n",
       "1            -1.0            10.0            48.0            48.0  \n",
       "2             2.0             3.0             1.0            -1.0  \n",
       "3            -1.0            -1.0            -1.0            -1.0  \n",
       "4            -1.0            55.0            55.0            -1.0  \n",
       "\n",
       "[5 rows x 160 columns]"
      ]
     },
     "execution_count": 6,
     "metadata": {},
     "output_type": "execute_result"
    }
   ],
   "source": [
    "# Normalize prices per hotel: 0 = min, 100 = max, ignoring -1\n",
    "def normalize(prices):\n",
    "    valid_prices = prices[prices != -1]\n",
    "    if valid_prices.empty:\n",
    "        return prices\n",
    "    min_val, max_val = valid_prices.min(), valid_prices.max()\n",
    "    if min_val == max_val:\n",
    "        return prices.mask(prices != -1, 0)\n",
    "    scaled = ((prices - min_val) / (max_val - min_val) * 100).round(0)\n",
    "    return scaled.where(prices != -1, -1).astype(\"Int64\")\n",
    "\n",
    "# Apply normalization to each hotel (row)\n",
    "normalized_prices = pivot_matrix.drop(columns='Hotel Name').apply(normalize, axis=1)\n",
    "\n",
    "# Preview the normalized result\n",
    "normalized_prices.head()"
   ]
  },
  {
   "cell_type": "markdown",
   "metadata": {},
   "source": [
    "### 3.5 - Finalize Normalized Matrix  \n",
    "\n",
    "We created the final matrix by attaching hotel names to the normalized price features, preparing a clean dataset for clustering.  \n",
    "The result was saved to a CSV file, ensuring it contains all hotels and the expected number of feature columns.\n"
   ]
  },
  {
   "cell_type": "code",
   "execution_count": 7,
   "metadata": {},
   "outputs": [
    {
     "name": "stdout",
     "output_type": "stream",
     "text": [
      "Normalized matrix shape: (149, 161)\n"
     ]
    }
   ],
   "source": [
    "# Create normalized matrix and add hotel names\n",
    "normalized_matrix = normalized_prices.copy()\n",
    "normalized_matrix.insert(0, 'Hotel Name', pivot_matrix['Hotel Name'])\n",
    "\n",
    "# Save to CSV for clustering\n",
    "normalized_matrix.to_csv(\"Data/hotels_clustering_data.csv\", index=False)\n",
    "\n",
    "# Checking if: (149, 161)\n",
    "print(\"Normalized matrix shape:\", normalized_matrix.shape)  "
   ]
  },
  {
   "cell_type": "markdown",
   "metadata": {},
   "source": [
    "### 3.6 - Hierarchical Clustering Analysis\n",
    "\n",
    "In this final step, we were asked to apply a clustering method on the normalized hotel price matrix in order to group similar hotels based on their price patterns.  \n",
    "The main goal was to uncover hidden structures in the data and identify groups of hotels that behave similarly in terms of pricing across check-in dates and discount codes.  \n",
    "\n",
    "To achieve this, we used **hierarchical clustering** with **Ward’s linkage method**, which is well-suited for detecting compact, well-separated clusters.  \n",
    "The analysis was carried out in three parts:\n",
    "- First, we generated a **dendrogram** to visualize the hierarchical relationships between hotels and observe possible cluster separations.\n",
    "- Then, we selected a fixed number of clusters (**k=5**) and visualized the distribution of hotels across these clusters using a color-coded bar chart.\n",
    "- Lastly, we explored the effect of different **distance thresholds** on the dendrogram, showing how the number and shape of clusters change as we adjust the threshold.\n",
    "\n",
    "This analysis helps reveal how hotels can be grouped based on discounting strategies and pricing behavior, and serves as the foundation for drawing meaningful business insights.\n"
   ]
  },
  {
   "cell_type": "markdown",
   "metadata": {},
   "source": [
    "#### 3.6.1 - Dendrogram Creation and Structure Observation \n",
    "\n",
    "We removed the hotel names and performed hierarchical clustering using the normalized price data.  \n",
    "The dendrogram we generated showed a clear structure with several natural breakpoints, suggesting that the hotels can be meaningfully grouped based on pricing behavior.  \n",
    "This visual helped us decide how many clusters to use in the next step and confirmed that the data contains visible patterns.\n"
   ]
  },
  {
   "cell_type": "code",
   "execution_count": 8,
   "metadata": {},
   "outputs": [
    {
     "data": {
      "image/png": "[encoded data removed]",
      "text/plain": [
       "<Figure size 1600x600 with 1 Axes>"
      ]
     },
     "metadata": {},
     "output_type": "display_data"
    }
   ],
   "source": [
    "# Prepare the data (remove hotel name)\n",
    "clustering_data = normalized_matrix.drop(columns='Hotel Name').values\n",
    "\n",
    "# Compute linkage matrix using Ward method\n",
    "Z = linkage(clustering_data, method='ward')\n",
    "\n",
    "# Plot dendrogram\n",
    "plt.figure(figsize=(16, 6))\n",
    "dendrogram(Z, no_labels=True, color_threshold=0)\n",
    "plt.title(\"Hierarchical Clustering Dendrogram (Normalized Prices)\", fontsize=25)\n",
    "plt.xlabel(\"Hotels\", fontsize=20)\n",
    "plt.ylabel(\"Difference\", fontsize=20)\n",
    "plt.grid(True)\n",
    "plt.show()\n"
   ]
  },
  {
   "cell_type": "markdown",
   "metadata": {},
   "source": [
    "#### 3.6.2 - Cluster Assignment and Distribution Analysis  \n",
    "After assigning each hotel to one of five clusters based on their normalized price patterns, we analyzed the distribution of hotels across clusters.  \n",
    "The bar chart visualization revealed several key observations:\n",
    "\n",
    "- The distribution is unbalanced — one or two clusters contain the majority of hotels, while others are much smaller.  \n",
    "- This indicates that many hotels exhibit similar pricing behaviors and can be grouped together confidently.  \n",
    "- Smaller clusters likely represent hotels with distinct or uncommon discount strategies, possibly targeting niche audiences.  \n",
    "- The presence of such clusters highlights variability in market behavior, and may be useful for identifying outlier hotels or unique pricing tactics.\n",
    "\n",
    "This step helped us understand the overall structure of the dataset and served as a starting point for deeper cluster interpretation.\n"
   ]
  },
  {
   "cell_type": "code",
   "execution_count": 9,
   "metadata": {},
   "outputs": [
    {
     "data": {
      "image/png": "[encoded data removed]",
      "text/plain": [
       "<Figure size 1000x600 with 1 Axes>"
      ]
     },
     "metadata": {},
     "output_type": "display_data"
    }
   ],
   "source": [
    "# Assign each hotel to a cluster (e.g., 5 clusters)\n",
    "clusters = fcluster(Z, t=5, criterion='maxclust')\n",
    "\n",
    "# Create a DataFrame with hotel names and their assigned cluster\n",
    "hotel_clusters = pd.DataFrame({\n",
    "    'Hotel Name': normalized_matrix['Hotel Name'],\n",
    "    'Cluster': clusters\n",
    "})\n",
    "\n",
    "# Count the number of hotels per cluster\n",
    "cluster_counts = hotel_clusters['Cluster'].value_counts().sort_index()\n",
    "\n",
    "# Define colors using a color palette\n",
    "num_clusters = cluster_counts.shape[0]\n",
    "colors = sns.color_palette(\"viridis\", num_clusters)\n",
    "\n",
    "# Plot the styled bar chart\n",
    "plt.figure(figsize=(10, 6))\n",
    "bars = plt.bar(cluster_counts.index.astype(str), cluster_counts.values, color=colors, edgecolor='black')\n",
    "\n",
    "# Add value labels above each bar\n",
    "for bar in bars:\n",
    "    height = bar.get_height()\n",
    "    plt.text(bar.get_x() + bar.get_width()/2, height + 0.5, str(height),\n",
    "             ha='center', va='bottom', fontsize=14, fontweight='bold')\n",
    "\n",
    "# Enhance plot styling\n",
    "plt.title(\"Hotel Distribution by Cluster\", fontsize=20, fontweight='bold')\n",
    "plt.xlabel(\"Cluster Number\", fontsize=15)\n",
    "plt.ylabel(\"Number of Hotels\", fontsize=15)\n",
    "plt.xticks(fontsize=11)\n",
    "plt.yticks(fontsize=11)\n",
    "plt.grid(axis='y', linestyle='--', alpha=0.5)\n",
    "plt.tight_layout()\n",
    "plt.show()\n"
   ]
  },
  {
   "cell_type": "markdown",
   "metadata": {},
   "source": [
    "#### 3.6.3 - Threshold Comparison and Subgroup Insights  \n",
    "\n",
    "We explored how changing the dendrogram’s color threshold affects the way hotels are grouped into clusters.  \n",
    "This helped us better understand the stability of patterns and the point at which meaningful differences begin to emerge.\n",
    "\n",
    "- At higher thresholds, clusters appear larger and more generalized, showing broad similarities but hiding fine details.  \n",
    "- As we lowered the threshold, we began to see more specific divisions, especially in clusters that were previously large and uniform.  \n",
    "- Some hotels consistently stayed grouped together across thresholds, indicating strong similarity and potentially shared pricing logic or strategy.  \n",
    "- Others split off early, suggesting distinct behaviors or unique discounting models that separate them from the majority.  \n",
    "- This comparison highlighted which hotels follow predictable pricing patterns and which deviate, giving us a clearer view of market diversity.\n",
    "\n",
    "This part allowed us to reflect on how sensitive our clustering is to threshold selection, and where the data reveals hidden complexity.\n"
   ]
  },
  {
   "cell_type": "code",
   "execution_count": 10,
   "metadata": {},
   "outputs": [
    {
     "data": {
      "image/png": "[encoded data removed]",
      "text/plain": [
       "<Figure size 1800x2000 with 4 Axes>"
      ]
     },
     "metadata": {},
     "output_type": "display_data"
    }
   ],
   "source": [
    "# Load normalized matrix\n",
    "normalized_matrix = pd.read_csv(\"Data/hotels_clustering_data.csv\")\n",
    "\n",
    "# Prepare clustering data (remove hotel names)\n",
    "clustering_data = normalized_matrix.drop(columns='Hotel Name').values\n",
    "\n",
    "# Compute the linkage matrix using Ward's method\n",
    "Z = linkage(clustering_data, method='ward')\n",
    "\n",
    "# Define color thresholds for comparison\n",
    "thresholds = [900, 750, 500, 350]    # upping 150 each time\n",
    "\n",
    "# Plot dendrograms for different thresholds\n",
    "fig, axes = plt.subplots(len(thresholds), 1, figsize=(18, 5 * len(thresholds)))\n",
    "\n",
    "for i, threshold in enumerate(thresholds):\n",
    "    dendrogram(\n",
    "        Z,\n",
    "        no_labels=True,\n",
    "        color_threshold=threshold,\n",
    "        ax=axes[i]\n",
    "    )\n",
    "    axes[i].set_title(f\"Dendrogram with Color Threshold = {threshold}\", fontsize=20)\n",
    "    axes[i].set_xlabel(\"Hotels\", fontsize=14)\n",
    "    axes[i].set_ylabel(\"Difference\", fontsize=14)\n",
    "    axes[i].grid(True)\n",
    "\n",
    "plt.tight_layout()\n",
    "plt.show()"
   ]
  },
  {
   "cell_type": "markdown",
   "metadata": {},
   "source": [
    "### Summary of Part B3\n",
    "\n",
    "In this section, we conducted a complete clustering pipeline on hotel price data, aiming to uncover meaningful groups based on discount behavior over time.  \n",
    "We began by filtering the dataset to focus on the most frequent hotels and check-in dates, ensuring the analysis relied on sufficient data points.\n",
    "\n",
    "We then reshaped the data into a structured matrix where each hotel was represented by 160 normalized features, capturing the lowest discount price per date and code.  \n",
    "After validating that no important data was lost in preprocessing, we scaled the prices per hotel to a 0–100 range to remove bias from absolute values.\n",
    "\n",
    "This prepared dataset was used for hierarchical clustering, which revealed clear groupings of hotels based on discount strategies.  \n",
    "We explored different cluster structures by adjusting thresholds and visualizing the results both as dendrograms and bar charts.  \n",
    "This allowed us to identify common pricing patterns, outlier behaviors, and levels of similarity between hotels.\n",
    "\n",
    "Overall, this analysis gave us a deeper understanding of how hotels differentiate themselves in terms of pricing.  \n",
    "It also provided a solid foundation for future segmentation, competitive analysis, or pricing strategy refinement.  \n",
    "<br>\n",
    "**These insights naturally lead into Part B4, where we explore how additional hotel attributes correlate with the discovered clusters.**\n"
   ]
  }
 ],
 "metadata": {
  "kernelspec": {
   "display_name": "base",
   "language": "python",
   "name": "python3"
  },
  "language_info": {
   "codemirror_mode": {
    "name": "ipython",
    "version": 3
   },
   "file_extension": ".py",
   "mimetype": "text/x-python",
   "name": "python",
   "nbconvert_exporter": "python",
   "pygments_lexer": "ipython3",
   "version": "3.12.3"
  }
 },
 "nbformat": 4,
 "nbformat_minor": 2
}
