{
 "cells": [
  {
   "cell_type": "code",
   "execution_count": 8,
   "metadata": {},
   "outputs": [
    {
     "name": "stdout",
     "output_type": "stream",
     "text": [
      "Requirement already satisfied: xgboost in c:\\users\\alon1\\anaconda3\\lib\\site-packages (3.0.0)\n",
      "Requirement already satisfied: numpy in c:\\users\\alon1\\anaconda3\\lib\\site-packages (from xgboost) (1.26.4)\n",
      "Requirement already satisfied: scipy in c:\\users\\alon1\\anaconda3\\lib\\site-packages (from xgboost) (1.13.1)\n",
      "Note: you may need to restart the kernel to use updated packages.\n"
     ]
    }
   ],
   "source": [
    "%pip install xgboost\n",
    "\n"
   ]
  },
  {
   "cell_type": "code",
   "execution_count": 10,
   "metadata": {},
   "outputs": [],
   "source": [
    "import xgboost as xgb\n",
    "from sklearn.metrics import accuracy_score, confusion_matrix, classification_report, roc_auc_score\n",
    "import numpy as np\n",
    "import pandas as pd\n",
    "from sklearn.model_selection import train_test_split, GridSearchCV\n",
    "from sklearn.ensemble import RandomForestClassifier\n",
    "import matplotlib.pyplot as plt\n",
    "import seaborn as sns"
   ]
  },
  {
   "cell_type": "code",
   "execution_count": null,
   "metadata": {},
   "outputs": [],
   "source": [
    "df = pd.read_csv(\"../Data/Hotels_Best_Discount.csv\")\n",
    "X = df[[\"Snapshot Date\", \"Checkin Date\" , \"DayDiff\" , \"WeekDay\" , \"Hotel_Encoded_Name\"]]\n",
    "y = df[\"Discount Code\"]\n",
    "X_train, X_test, y_train, y_test = train_test_split(X, y, test_size=0.2, random_state=42)\n",
    "\n",
    "\n",
    "# Adjust class labels to start from 0 (since XGBoost requires classes to start from 0)\n",
    "y_train_adj = y_train - 1\n",
    "y_test_adj = y_test - 1\n",
    "\n",
    "\n"
   ]
  },
  {
   "cell_type": "markdown",
   "metadata": {},
   "source": [
    "**What is XGboost?**\n",
    "\n",
    "XGBoost (eXtreme Gradient Boosting) is an optimized gradient boosting algorithm that builds multiple decision trees sequentially, where each tree corrects the mistakes of the previous ones. It uses a combination of boosting techniques and regularization to achieve high accuracy while preventing overfitting.\n",
    "___\n",
    "**XGboost Hyperparameter Overview:**\n",
    "- n_estimators – Number of boosting rounds (trees).\n",
    "- max_depth – Maximum depth of each tree (None = unlimited).\n",
    "- learning_rate – Step size for updating weights.\n",
    "- subsample – Fraction of training samples used per tree to reduce overfitting.\n",
    "- colsample_bytree – Fraction of features used for each tree, controlling diversity.\n",
    "- gamma – Minimum loss reduction required to split a node (higher = more conservative splits).\n",
    "\n",
    "\n",
    "\n",
    "\n",
    "\n",
    "\n",
    "\n",
    "\n",
    "\n",
    "\n",
    "\n",
    "\n",
    "\n"
   ]
  },
  {
   "cell_type": "code",
   "execution_count": 16,
   "metadata": {},
   "outputs": [
    {
     "name": "stderr",
     "output_type": "stream",
     "text": [
      "c:\\Users\\alon1\\anaconda3\\Lib\\site-packages\\xgboost\\training.py:183: UserWarning: [19:07:00] WARNING: C:\\actions-runner\\_work\\xgboost\\xgboost\\src\\learner.cc:738: \n",
      "Parameters: { \"use_label_encoder\" } are not used.\n",
      "\n",
      "  bst.update(dtrain, iteration=i, fobj=obj)\n"
     ]
    },
    {
     "name": "stdout",
     "output_type": "stream",
     "text": [
      "\n",
      "Top 5 XGBoost Models (based on validation accuracy):\n",
      "Model 6: Accuracy=0.7595, Params={'colsample_bytree': 0.8, 'gamma': 0, 'learning_rate': 0.3, 'max_depth': 20, 'n_estimators': 100, 'subsample': 1.0}\n",
      "Model 2: Accuracy=0.7592, Params={'colsample_bytree': 0.8, 'gamma': 0, 'learning_rate': 0.1, 'max_depth': 20, 'n_estimators': 100, 'subsample': 1.0}\n",
      "Model 22: Accuracy=0.7580, Params={'colsample_bytree': 1.0, 'gamma': 0, 'learning_rate': 0.3, 'max_depth': 20, 'n_estimators': 100, 'subsample': 1.0}\n",
      "Model 1: Accuracy=0.7542, Params={'colsample_bytree': 0.8, 'gamma': 0, 'learning_rate': 0.1, 'max_depth': 20, 'n_estimators': 100, 'subsample': 0.8}\n",
      "Model 18: Accuracy=0.7540, Params={'colsample_bytree': 1.0, 'gamma': 0, 'learning_rate': 0.1, 'max_depth': 20, 'n_estimators': 100, 'subsample': 1.0}\n",
      "\n",
      "Worst 5 XGBoost Models (based on validation accuracy):\n",
      "Model 28: Accuracy=0.5319, Params={'colsample_bytree': 1.0, 'gamma': 0.3, 'learning_rate': 0.1, 'max_depth': None, 'n_estimators': 100, 'subsample': 1.0}\n",
      "Model 3: Accuracy=0.5306, Params={'colsample_bytree': 0.8, 'gamma': 0, 'learning_rate': 0.1, 'max_depth': None, 'n_estimators': 100, 'subsample': 0.8}\n",
      "Model 20: Accuracy=0.5302, Params={'colsample_bytree': 1.0, 'gamma': 0, 'learning_rate': 0.1, 'max_depth': None, 'n_estimators': 100, 'subsample': 1.0}\n",
      "Model 12: Accuracy=0.5266, Params={'colsample_bytree': 0.8, 'gamma': 0.3, 'learning_rate': 0.1, 'max_depth': None, 'n_estimators': 100, 'subsample': 1.0}\n",
      "Model 4: Accuracy=0.5252, Params={'colsample_bytree': 0.8, 'gamma': 0, 'learning_rate': 0.1, 'max_depth': None, 'n_estimators': 100, 'subsample': 1.0}\n",
      "\n",
      "Test Accuracy of Best XGBoost Model: 0.8023\n",
      "\n",
      "Best Hyperparameters Found:\n",
      "{'colsample_bytree': 0.8, 'gamma': 0, 'learning_rate': 0.3, 'max_depth': 20, 'n_estimators': 100, 'subsample': 1.0}\n"
     ]
    }
   ],
   "source": [
    "param_grid = {\n",
    "    \"n_estimators\": [100],  # default=100\n",
    "    \"max_depth\": [20, None],  # default=None\n",
    "    \"learning_rate\": [0.1, 0.3],  # default=0.3\n",
    "    \"subsample\": [0.8, 1.0],  # default=1.0\n",
    "    \"colsample_bytree\": [0.8, 1.0],  # default=1.0\n",
    "    \"gamma\": [0, 0.3],  # default=0\n",
    "}\n",
    "\n",
    "grid_search = GridSearchCV(\n",
    "    xgb.XGBClassifier(objective=\"multi:softmax\", num_class=4, use_label_encoder=False, eval_metric=\"mlogloss\"),\n",
    "    param_grid,\n",
    "    cv=3,\n",
    "    scoring=\"accuracy\",\n",
    "    n_jobs=-1,\n",
    "    return_train_score=True\n",
    ")\n",
    "\n",
    "\n",
    "grid_search.fit(X_train, y_train_adj)  # Use adjusted labels\n",
    "results_df = pd.DataFrame(grid_search.cv_results_).sort_values(by=\"mean_test_score\", ascending=False)\n",
    "\n",
    "top_5_models = results_df.iloc[:5][[\"mean_test_score\", \"params\"]]\n",
    "worst_5_models = results_df.iloc[-5:][[\"mean_test_score\", \"params\"]]\n",
    "\n",
    "\n",
    "print(\"\\nTop 5 XGBoost Models (based on validation accuracy):\")\n",
    "for idx, row in top_5_models.iterrows():\n",
    "    print(f\"Model {idx+1}: Accuracy={row['mean_test_score']:.4f}, Params={row['params']}\")\n",
    "\n",
    "print(\"\\nWorst 5 XGBoost Models (based on validation accuracy):\")\n",
    "for idx, row in worst_5_models.iterrows():\n",
    "    print(f\"Model {idx+1}: Accuracy={row['mean_test_score']:.4f}, Params={row['params']}\")\n",
    "\n",
    "\n",
    "best_xgb = grid_search.best_estimator_\n",
    "best_xgb_params = grid_search.best_params_\n",
    "\n",
    "y_pred_adj = best_xgb.predict(X_test)  # Predictions are in [0,1,2,3]\n",
    "y_pred = y_pred_adj + 1  # Shift back to [1,2,3,4]\n",
    "\n",
    "test_accuracy = accuracy_score(y_test, y_pred)\n",
    "\n",
    "print(f\"\\nTest Accuracy of Best XGBoost Model: {test_accuracy:.4f}\")\n",
    "print(\"\\nBest Hyperparameters Found:\")\n",
    "print(best_xgb_params)\n"
   ]
  },
  {
   "cell_type": "markdown",
   "metadata": {},
   "source": [
    "**Changes:**\n",
    "\n",
    "- colsample_bytree: 0.8 only\n",
    "- gamma: 0 only\n",
    "- learning_rate: keep the same\n",
    "- max_depth: will try 15 ,20 ,25\n",
    "- subsample: 1 only"
   ]
  },
  {
   "cell_type": "code",
   "execution_count": null,
   "metadata": {},
   "outputs": [
    {
     "name": "stderr",
     "output_type": "stream",
     "text": [
      "c:\\Users\\alon1\\anaconda3\\Lib\\site-packages\\xgboost\\training.py:183: UserWarning: [19:18:22] WARNING: C:\\actions-runner\\_work\\xgboost\\xgboost\\src\\learner.cc:738: \n",
      "Parameters: { \"use_label_encoder\" } are not used.\n",
      "\n",
      "  bst.update(dtrain, iteration=i, fobj=obj)\n"
     ]
    },
    {
     "name": "stdout",
     "output_type": "stream",
     "text": [
      "\n",
      "Top 5 XGBoost Models (based on validation accuracy):\n",
      "Model 3: Accuracy=0.7627, Params={'colsample_bytree': 0.8, 'gamma': 0, 'learning_rate': 0.1, 'max_depth': 25, 'n_estimators': 100, 'subsample': 1.0}\n",
      "Model 6: Accuracy=0.7606, Params={'colsample_bytree': 0.8, 'gamma': 0, 'learning_rate': 0.3, 'max_depth': 25, 'n_estimators': 100, 'subsample': 1.0}\n",
      "Model 5: Accuracy=0.7595, Params={'colsample_bytree': 0.8, 'gamma': 0, 'learning_rate': 0.3, 'max_depth': 20, 'n_estimators': 100, 'subsample': 1.0}\n",
      "Model 2: Accuracy=0.7592, Params={'colsample_bytree': 0.8, 'gamma': 0, 'learning_rate': 0.1, 'max_depth': 20, 'n_estimators': 100, 'subsample': 1.0}\n",
      "Model 4: Accuracy=0.7508, Params={'colsample_bytree': 0.8, 'gamma': 0, 'learning_rate': 0.3, 'max_depth': 15, 'n_estimators': 100, 'subsample': 1.0}\n",
      "\n",
      "Test Accuracy of Best XGBoost Model: 0.8052\n",
      "\n",
      "Best Hyperparameters Found:\n",
      "{'colsample_bytree': 0.8, 'gamma': 0, 'learning_rate': 0.1, 'max_depth': 25, 'n_estimators': 100, 'subsample': 1.0}\n"
     ]
    }
   ],
   "source": [
    "param_grid = {\n",
    "    \"n_estimators\": [100],  # default=100\n",
    "    \"max_depth\": [15, 20, 25],  # default=None\n",
    "    \"learning_rate\": [0.1, 0.3],  # default=0.3\n",
    "    \"subsample\": [1.0],  # default=1.0\n",
    "    \"colsample_bytree\": [0.8],  # default=1.0\n",
    "    \"gamma\": [0],  # default=0\n",
    "}\n",
    "\n",
    "grid_search = GridSearchCV(\n",
    "    xgb.XGBClassifier(objective=\"multi:softmax\", num_class=4, use_label_encoder=False, eval_metric=\"mlogloss\"),\n",
    "    param_grid,\n",
    "    cv=3,\n",
    "    scoring=\"accuracy\",\n",
    "    n_jobs=-1,\n",
    "    return_train_score=True\n",
    ")\n",
    "\n",
    "\n",
    "grid_search.fit(X_train, y_train_adj)  # Use adjusted labels\n",
    "results_df = pd.DataFrame(grid_search.cv_results_).sort_values(by=\"mean_test_score\", ascending=False)\n",
    "\n",
    "top_5_models = results_df.iloc[:5][[\"mean_test_score\", \"params\"]]\n",
    "\n",
    "print(\"\\nTop 5 XGBoost Models (based on validation accuracy):\")\n",
    "for idx, row in top_5_models.iterrows():\n",
    "    print(f\"Model {idx+1}: Accuracy={row['mean_test_score']:.4f}, Params={row['params']}\")\n",
    "\n",
    "\n",
    "best_xgb = grid_search.best_estimator_\n",
    "best_xgb_params = grid_search.best_params_\n",
    "\n",
    "y_pred_adj = best_xgb.predict(X_test)  # Predictions are in [0,1,2,3]\n",
    "y_pred = y_pred_adj + 1  # Shift back to [1,2,3,4]\n",
    "\n",
    "test_accuracy = accuracy_score(y_test, y_pred)\n",
    "\n",
    "print(f\"\\nTest Accuracy of Best XGBoost Model: {test_accuracy:.4f}\")\n",
    "print(\"\\nBest Hyperparameters Found:\")\n",
    "print(best_xgb_params)\n"
   ]
  },
  {
   "cell_type": "markdown",
   "metadata": {},
   "source": [
    "**Changes:**\n",
    "\n",
    "- n_estimators: we'll try  50, 100 ,300\n",
    "- colsample_bytree: we'll try 0.8, 0.9, 1.0\n",
    "- gamma: 0 only\n",
    "- learning_rate: 0.1 only\n",
    "- max_depth: 25 only\n",
    "- subsample: 1 only"
   ]
  },
  {
   "cell_type": "code",
   "execution_count": 18,
   "metadata": {},
   "outputs": [
    {
     "name": "stderr",
     "output_type": "stream",
     "text": [
      "c:\\Users\\alon1\\anaconda3\\Lib\\site-packages\\xgboost\\training.py:183: UserWarning: [19:30:22] WARNING: C:\\actions-runner\\_work\\xgboost\\xgboost\\src\\learner.cc:738: \n",
      "Parameters: { \"use_label_encoder\" } are not used.\n",
      "\n",
      "  bst.update(dtrain, iteration=i, fobj=obj)\n"
     ]
    },
    {
     "name": "stdout",
     "output_type": "stream",
     "text": [
      "\n",
      "Top 5 XGBoost Models (based on validation accuracy):\n",
      "Model 2: Accuracy=0.7627, Params={'colsample_bytree': 0.8, 'gamma': 0, 'learning_rate': 0.1, 'max_depth': 25, 'n_estimators': 100, 'subsample': 1.0}\n",
      "Model 5: Accuracy=0.7627, Params={'colsample_bytree': 0.9, 'gamma': 0, 'learning_rate': 0.1, 'max_depth': 25, 'n_estimators': 100, 'subsample': 1.0}\n",
      "Model 3: Accuracy=0.7619, Params={'colsample_bytree': 0.8, 'gamma': 0, 'learning_rate': 0.1, 'max_depth': 25, 'n_estimators': 300, 'subsample': 1.0}\n",
      "Model 6: Accuracy=0.7619, Params={'colsample_bytree': 0.9, 'gamma': 0, 'learning_rate': 0.1, 'max_depth': 25, 'n_estimators': 300, 'subsample': 1.0}\n",
      "Model 1: Accuracy=0.7594, Params={'colsample_bytree': 0.8, 'gamma': 0, 'learning_rate': 0.1, 'max_depth': 25, 'n_estimators': 50, 'subsample': 1.0}\n",
      "\n",
      "Test Accuracy of Best XGBoost Model: 0.8052\n",
      "\n",
      "Best Hyperparameters Found:\n",
      "{'colsample_bytree': 0.8, 'gamma': 0, 'learning_rate': 0.1, 'max_depth': 25, 'n_estimators': 100, 'subsample': 1.0}\n"
     ]
    }
   ],
   "source": [
    "param_grid = {\n",
    "    \"n_estimators\": [50, 100, 300],  # default=100\n",
    "    \"max_depth\": [25],  # default=None\n",
    "    \"learning_rate\": [0.1],  # default=0.3\n",
    "    \"subsample\": [1.0],  # default=1.0\n",
    "    \"colsample_bytree\": [0.8, 0.9, 1.0],  # default=1.0\n",
    "    \"gamma\": [0],  # default=0\n",
    "}\n",
    "\n",
    "grid_search = GridSearchCV(\n",
    "    xgb.XGBClassifier(objective=\"multi:softmax\", num_class=4, use_label_encoder=False, eval_metric=\"mlogloss\"),\n",
    "    param_grid,\n",
    "    cv=3,\n",
    "    scoring=\"accuracy\",\n",
    "    n_jobs=-1,\n",
    "    return_train_score=True\n",
    ")\n",
    "\n",
    "\n",
    "grid_search.fit(X_train, y_train_adj)  # Use adjusted labels\n",
    "results_df = pd.DataFrame(grid_search.cv_results_).sort_values(by=\"mean_test_score\", ascending=False)\n",
    "\n",
    "top_5_models = results_df.iloc[:5][[\"mean_test_score\", \"params\"]]\n",
    "\n",
    "print(\"\\nTop 5 XGBoost Models (based on validation accuracy):\")\n",
    "for idx, row in top_5_models.iterrows():\n",
    "    print(f\"Model {idx+1}: Accuracy={row['mean_test_score']:.4f}, Params={row['params']}\")\n",
    "\n",
    "\n",
    "best_xgb = grid_search.best_estimator_\n",
    "best_xgb_params = grid_search.best_params_\n",
    "\n",
    "y_pred_adj = best_xgb.predict(X_test)  # Predictions are in [0,1,2,3]\n",
    "y_pred = y_pred_adj + 1  # Shift back to [1,2,3,4]\n",
    "\n",
    "test_accuracy = accuracy_score(y_test, y_pred)\n",
    "\n",
    "print(f\"\\nTest Accuracy of Best XGBoost Model: {test_accuracy:.4f}\")\n",
    "print(\"\\nBest Hyperparameters Found:\")\n",
    "print(best_xgb_params)\n"
   ]
  },
  {
   "cell_type": "markdown",
   "metadata": {},
   "source": [
    "**Changes:**\n",
    "\n",
    "- n_estimators: we'll try  100 ,200\n",
    "- colsample_bytree: we'll try 0.6, 0.8\n",
    "- gamma: 0 only\n",
    "- learning_rate: we'll try  0.1 , 0.05\n",
    "- max_depth: 25 only\n",
    "- subsample: 1 only"
   ]
  },
  {
   "cell_type": "code",
   "execution_count": 19,
   "metadata": {},
   "outputs": [
    {
     "name": "stderr",
     "output_type": "stream",
     "text": [
      "c:\\Users\\alon1\\anaconda3\\Lib\\site-packages\\xgboost\\training.py:183: UserWarning: [19:43:55] WARNING: C:\\actions-runner\\_work\\xgboost\\xgboost\\src\\learner.cc:738: \n",
      "Parameters: { \"use_label_encoder\" } are not used.\n",
      "\n",
      "  bst.update(dtrain, iteration=i, fobj=obj)\n"
     ]
    },
    {
     "name": "stdout",
     "output_type": "stream",
     "text": [
      "\n",
      "Top 5 XGBoost Models (based on validation accuracy):\n",
      "Model 6: Accuracy=0.7627, Params={'colsample_bytree': 0.8, 'gamma': 0, 'learning_rate': 0.05, 'max_depth': 25, 'n_estimators': 200, 'subsample': 1.0}\n",
      "Model 7: Accuracy=0.7627, Params={'colsample_bytree': 0.8, 'gamma': 0, 'learning_rate': 0.1, 'max_depth': 25, 'n_estimators': 100, 'subsample': 1.0}\n",
      "Model 8: Accuracy=0.7623, Params={'colsample_bytree': 0.8, 'gamma': 0, 'learning_rate': 0.1, 'max_depth': 25, 'n_estimators': 200, 'subsample': 1.0}\n",
      "Model 5: Accuracy=0.7618, Params={'colsample_bytree': 0.8, 'gamma': 0, 'learning_rate': 0.05, 'max_depth': 25, 'n_estimators': 100, 'subsample': 1.0}\n",
      "Model 3: Accuracy=0.7307, Params={'colsample_bytree': 0.6, 'gamma': 0, 'learning_rate': 0.1, 'max_depth': 25, 'n_estimators': 100, 'subsample': 1.0}\n",
      "\n",
      "Test Accuracy of Best XGBoost Model: 0.8051\n",
      "\n",
      "Best Hyperparameters Found:\n",
      "{'colsample_bytree': 0.8, 'gamma': 0, 'learning_rate': 0.05, 'max_depth': 25, 'n_estimators': 200, 'subsample': 1.0}\n"
     ]
    }
   ],
   "source": [
    "param_grid = {\n",
    "    \"n_estimators\": [100, 200],  # default=100\n",
    "    \"max_depth\": [25],  # default=None\n",
    "    \"learning_rate\": [0.05, 0.1],  # default=0.3\n",
    "    \"subsample\": [1.0],  # default=1.0\n",
    "    \"colsample_bytree\": [0.6, 0.8],  # default=1.0\n",
    "    \"gamma\": [0],  # default=0\n",
    "}\n",
    "\n",
    "grid_search = GridSearchCV(\n",
    "    xgb.XGBClassifier(objective=\"multi:softmax\", num_class=4, use_label_encoder=False, eval_metric=\"mlogloss\"),\n",
    "    param_grid,\n",
    "    cv=3,\n",
    "    scoring=\"accuracy\",\n",
    "    n_jobs=-1,\n",
    "    return_train_score=True\n",
    ")\n",
    "\n",
    "\n",
    "grid_search.fit(X_train, y_train_adj)  # Use adjusted labels\n",
    "results_df = pd.DataFrame(grid_search.cv_results_).sort_values(by=\"mean_test_score\", ascending=False)\n",
    "\n",
    "top_5_models = results_df.iloc[:5][[\"mean_test_score\", \"params\"]]\n",
    "\n",
    "print(\"\\nTop 5 XGBoost Models (based on validation accuracy):\")\n",
    "for idx, row in top_5_models.iterrows():\n",
    "    print(f\"Model {idx+1}: Accuracy={row['mean_test_score']:.4f}, Params={row['params']}\")\n",
    "\n",
    "\n",
    "best_xgb = grid_search.best_estimator_\n",
    "best_xgb_params = grid_search.best_params_\n",
    "\n",
    "y_pred_adj = best_xgb.predict(X_test)  # Predictions are in [0,1,2,3]\n",
    "y_pred = y_pred_adj + 1  # Shift back to [1,2,3,4]\n",
    "\n",
    "test_accuracy = accuracy_score(y_test, y_pred)\n",
    "\n",
    "print(f\"\\nTest Accuracy of Best XGBoost Model: {test_accuracy:.4f}\")\n",
    "print(\"\\nBest Hyperparameters Found:\")\n",
    "print(best_xgb_params)\n"
   ]
  },
  {
   "cell_type": "markdown",
   "metadata": {},
   "source": [
    "## Fine Tune The learning_rate ##"
   ]
  },
  {
   "cell_type": "code",
   "execution_count": 21,
   "metadata": {},
   "outputs": [
    {
     "name": "stderr",
     "output_type": "stream",
     "text": [
      "c:\\Users\\alon1\\anaconda3\\Lib\\site-packages\\xgboost\\training.py:183: UserWarning: [20:09:03] WARNING: C:\\actions-runner\\_work\\xgboost\\xgboost\\src\\learner.cc:738: \n",
      "Parameters: { \"use_label_encoder\" } are not used.\n",
      "\n",
      "  bst.update(dtrain, iteration=i, fobj=obj)\n"
     ]
    },
    {
     "name": "stdout",
     "output_type": "stream",
     "text": [
      "\n",
      "Top 5 XGBoost Models (based on validation accuracy):\n",
      "Model 3: Accuracy=0.7618, Params={'colsample_bytree': 0.8, 'gamma': 0, 'learning_rate': 0.05, 'max_depth': 25, 'n_estimators': 100, 'subsample': 1.0}\n",
      "Model 2: Accuracy=0.7583, Params={'colsample_bytree': 0.8, 'gamma': 0, 'learning_rate': 0.03, 'max_depth': 25, 'n_estimators': 100, 'subsample': 1.0}\n",
      "Model 1: Accuracy=0.7474, Params={'colsample_bytree': 0.8, 'gamma': 0, 'learning_rate': 0.01, 'max_depth': 25, 'n_estimators': 100, 'subsample': 1.0}\n",
      "\n",
      "Test Accuracy of Best XGBoost Model: 0.8057\n",
      "\n",
      "Best Hyperparameters Found:\n",
      "{'colsample_bytree': 0.8, 'gamma': 0, 'learning_rate': 0.05, 'max_depth': 25, 'n_estimators': 100, 'subsample': 1.0}\n"
     ]
    }
   ],
   "source": [
    "param_grid = {\n",
    "    \"n_estimators\": [100],  # default=100\n",
    "    \"max_depth\": [25],  # default=None\n",
    "    \"learning_rate\": [0.01, 0.03, 0.05],  # default=0.3\n",
    "    \"subsample\": [1.0],  # default=1.0\n",
    "    \"colsample_bytree\": [0.8],  # default=1.0\n",
    "    \"gamma\": [0],  # default=0\n",
    "}\n",
    "\n",
    "grid_search = GridSearchCV(\n",
    "    xgb.XGBClassifier(objective=\"multi:softmax\", num_class=4, use_label_encoder=False, eval_metric=\"mlogloss\"),\n",
    "    param_grid,\n",
    "    cv=3,\n",
    "    scoring=\"accuracy\",\n",
    "    n_jobs=-1,\n",
    "    return_train_score=True\n",
    ")\n",
    "\n",
    "\n",
    "grid_search.fit(X_train, y_train_adj)  # Use adjusted labels\n",
    "results_df = pd.DataFrame(grid_search.cv_results_).sort_values(by=\"mean_test_score\", ascending=False)\n",
    "\n",
    "top_5_models = results_df.iloc[:5][[\"mean_test_score\", \"params\"]]\n",
    "\n",
    "print(\"\\nTop 5 XGBoost Models (based on validation accuracy):\")\n",
    "for idx, row in top_5_models.iterrows():\n",
    "    print(f\"Model {idx+1}: Accuracy={row['mean_test_score']:.4f}, Params={row['params']}\")\n",
    "\n",
    "\n",
    "best_xgb = grid_search.best_estimator_\n",
    "best_xgb_params = grid_search.best_params_\n",
    "\n",
    "y_pred_adj = best_xgb.predict(X_test)  # Predictions are in [0,1,2,3]\n",
    "y_pred = y_pred_adj + 1  # Shift back to [1,2,3,4]\n",
    "\n",
    "test_accuracy = accuracy_score(y_test, y_pred)\n",
    "\n",
    "print(f\"\\nTest Accuracy of Best XGBoost Model: {test_accuracy:.4f}\")\n",
    "print(\"\\nBest Hyperparameters Found:\")\n",
    "print(best_xgb_params)\n"
   ]
  },
  {
   "cell_type": "markdown",
   "metadata": {},
   "source": [
    "## Fine Tune The max_depth ##"
   ]
  },
  {
   "cell_type": "code",
   "execution_count": 22,
   "metadata": {},
   "outputs": [
    {
     "name": "stderr",
     "output_type": "stream",
     "text": [
      "c:\\Users\\alon1\\anaconda3\\Lib\\site-packages\\xgboost\\training.py:183: UserWarning: [20:12:19] WARNING: C:\\actions-runner\\_work\\xgboost\\xgboost\\src\\learner.cc:738: \n",
      "Parameters: { \"use_label_encoder\" } are not used.\n",
      "\n",
      "  bst.update(dtrain, iteration=i, fobj=obj)\n"
     ]
    },
    {
     "name": "stdout",
     "output_type": "stream",
     "text": [
      "\n",
      "Top 5 XGBoost Models (based on validation accuracy):\n",
      "Model 3: Accuracy=0.7619, Params={'colsample_bytree': 0.8, 'gamma': 0, 'learning_rate': 0.05, 'max_depth': 27, 'n_estimators': 100, 'subsample': 1.0}\n",
      "Model 2: Accuracy=0.7618, Params={'colsample_bytree': 0.8, 'gamma': 0, 'learning_rate': 0.05, 'max_depth': 25, 'n_estimators': 100, 'subsample': 1.0}\n",
      "Model 1: Accuracy=0.7609, Params={'colsample_bytree': 0.8, 'gamma': 0, 'learning_rate': 0.05, 'max_depth': 23, 'n_estimators': 100, 'subsample': 1.0}\n",
      "\n",
      "Test Accuracy of Best XGBoost Model: 0.8059\n",
      "\n",
      "Best Hyperparameters Found:\n",
      "{'colsample_bytree': 0.8, 'gamma': 0, 'learning_rate': 0.05, 'max_depth': 27, 'n_estimators': 100, 'subsample': 1.0}\n"
     ]
    }
   ],
   "source": [
    "param_grid = {\n",
    "    \"n_estimators\": [100],  # default=100\n",
    "    \"max_depth\": [23,25,27],  # default=None\n",
    "    \"learning_rate\": [0.05],  # default=0.3\n",
    "    \"subsample\": [1.0],  # default=1.0\n",
    "    \"colsample_bytree\": [0.8],  # default=1.0\n",
    "    \"gamma\": [0],  # default=0\n",
    "}\n",
    "\n",
    "grid_search = GridSearchCV(\n",
    "    xgb.XGBClassifier(objective=\"multi:softmax\", num_class=4, use_label_encoder=False, eval_metric=\"mlogloss\"),\n",
    "    param_grid,\n",
    "    cv=3,\n",
    "    scoring=\"accuracy\",\n",
    "    n_jobs=-1,\n",
    "    return_train_score=True\n",
    ")\n",
    "\n",
    "\n",
    "grid_search.fit(X_train, y_train_adj)  # Use adjusted labels\n",
    "results_df = pd.DataFrame(grid_search.cv_results_).sort_values(by=\"mean_test_score\", ascending=False)\n",
    "\n",
    "top_5_models = results_df.iloc[:5][[\"mean_test_score\", \"params\"]]\n",
    "\n",
    "print(\"\\nTop 5 XGBoost Models (based on validation accuracy):\")\n",
    "for idx, row in top_5_models.iterrows():\n",
    "    print(f\"Model {idx+1}: Accuracy={row['mean_test_score']:.4f}, Params={row['params']}\")\n",
    "\n",
    "\n",
    "best_xgb = grid_search.best_estimator_\n",
    "best_xgb_params = grid_search.best_params_\n",
    "\n",
    "y_pred_adj = best_xgb.predict(X_test)  # Predictions are in [0,1,2,3]\n",
    "y_pred = y_pred_adj + 1  # Shift back to [1,2,3,4]\n",
    "\n",
    "test_accuracy = accuracy_score(y_test, y_pred)\n",
    "\n",
    "print(f\"\\nTest Accuracy of Best XGBoost Model: {test_accuracy:.4f}\")\n",
    "print(\"\\nBest Hyperparameters Found:\")\n",
    "print(best_xgb_params)\n"
   ]
  },
  {
   "cell_type": "code",
   "execution_count": 23,
   "metadata": {},
   "outputs": [
    {
     "name": "stdout",
     "output_type": "stream",
     "text": [
      "XGBoost Test Accuracy: 0.8059\n",
      "XGBoost ROC AUC Score: 0.9455\n",
      "\n",
      "False Positives (FP) per class:\n",
      "[1020 1387 1202  557]\n",
      "\n",
      "False Negatives (FN) per class:\n",
      "[1092 1256 1076  742]\n",
      "\n",
      "Classification Report:\n",
      "              precision    recall  f1-score   support\n",
      "\n",
      "           1       0.82      0.81      0.81      5609\n",
      "           2       0.80      0.82      0.81      6830\n",
      "           3       0.80      0.81      0.80      5773\n",
      "           4       0.82      0.77      0.79      3248\n",
      "\n",
      "    accuracy                           0.81     21460\n",
      "   macro avg       0.81      0.80      0.80     21460\n",
      "weighted avg       0.81      0.81      0.81     21460\n",
      "\n",
      "\n",
      "Best Hyperparameters Found:\n",
      "{'colsample_bytree': 0.8, 'gamma': 0, 'learning_rate': 0.05, 'max_depth': 27, 'n_estimators': 100, 'subsample': 1.0}\n"
     ]
    }
   ],
   "source": [
    "y_pred_proba = best_xgb.predict_proba(X_test)\n",
    "test_accuracy = accuracy_score(y_test, y_pred)\n",
    "conf_matrix = confusion_matrix(y_test, y_pred)\n",
    "fp = conf_matrix.sum(axis=0) - np.diag(conf_matrix)\n",
    "fn = conf_matrix.sum(axis=1) - np.diag(conf_matrix)\n",
    "precision = np.diag(conf_matrix) / (np.diag(conf_matrix) + fp)\n",
    "recall = np.diag(conf_matrix) / (np.diag(conf_matrix) + fn)\n",
    "roc_auc = roc_auc_score(y_test, y_pred_proba, multi_class=\"ovr\")\n",
    "\n",
    "# Print Results\n",
    "print(f\"XGBoost Test Accuracy: {test_accuracy:.4f}\")\n",
    "print(f\"XGBoost ROC AUC Score: {roc_auc:.4f}\")\n",
    "\n",
    "print(\"\\nFalse Positives (FP) per class:\")\n",
    "print(fp)\n",
    "\n",
    "print(\"\\nFalse Negatives (FN) per class:\")\n",
    "print(fn)\n",
    "\n",
    "print(\"\\nClassification Report:\")\n",
    "print(classification_report(y_test, y_pred))\n",
    "\n",
    "print(\"\\nBest Hyperparameters Found:\")\n",
    "print(best_xgb_params)\n"
   ]
  },
  {
   "cell_type": "code",
   "execution_count": 24,
   "metadata": {},
   "outputs": [
    {
     "data": {
      "image/png": "[encoded data removed]",
      "text/plain": [
       "<Figure size 800x600 with 2 Axes>"
      ]
     },
     "metadata": {},
     "output_type": "display_data"
    }
   ],
   "source": [
    "classes = [f\"Discount {i}\" for i in range(1, len(conf_matrix) + 1)]\n",
    "\n",
    "plt.figure(figsize=(8, 6))\n",
    "sns.heatmap(conf_matrix, annot=True, fmt=\"d\", cmap=\"Blues\", xticklabels=classes, yticklabels=classes)\n",
    "plt.xlabel(\"Predicted Label\")\n",
    "plt.ylabel(\"True Label\")\n",
    "plt.title(\"Confusion Matrix\")\n",
    "plt.show()"
   ]
  },
  {
   "cell_type": "code",
   "execution_count": 25,
   "metadata": {},
   "outputs": [
    {
     "data": {
      "image/png": "[encoded data removed]",
      "text/plain": [
       "<Figure size 1000x500 with 1 Axes>"
      ]
     },
     "metadata": {},
     "output_type": "display_data"
    }
   ],
   "source": [
    "df_metrics = pd.DataFrame({\"Class\": classes, \"Precision\": precision, \"Recall\": recall})\n",
    "\n",
    "plt.figure(figsize=(10, 5))\n",
    "sns.barplot(x=\"Class\", y=\"Precision\", data=df_metrics, color=\"blue\", label=\"Precision\")\n",
    "sns.barplot(x=\"Class\", y=\"Recall\", data=df_metrics, color=\"yellow\", alpha=0.6, label=\"Recall\")\n",
    "plt.ylabel(\"Score\")\n",
    "plt.title(\"Precision & Recall per Class\")\n",
    "plt.legend()\n",
    "plt.show()"
   ]
  },
  {
   "cell_type": "code",
   "execution_count": 26,
   "metadata": {},
   "outputs": [
    {
     "data": {
      "image/png": "[encoded data removed]",
      "text/plain": [
       "<Figure size 1000x500 with 1 Axes>"
      ]
     },
     "metadata": {},
     "output_type": "display_data"
    }
   ],
   "source": [
    "df_fp_fn = pd.DataFrame({\"Class\": classes, \"False Positives\": fp, \"False Negatives\": fn})\n",
    "\n",
    "plt.figure(figsize=(10, 5))\n",
    "sns.barplot(x=\"Class\", y=\"False Positives\", data=df_fp_fn, color=\"orange\", label=\"False Positives\")\n",
    "sns.barplot(x=\"Class\", y=\"False Negatives\", data=df_fp_fn, color=\"purple\", alpha=0.6, label=\"False Negatives\")\n",
    "plt.ylabel(\"Count\")\n",
    "plt.title(\"False Positives & False Negatives per Class\")\n",
    "plt.legend()\n",
    "plt.show()"
   ]
  },
  {
   "cell_type": "markdown",
   "metadata": {},
   "source": [
    "### **In Conclusion**\n",
    "___\n",
    "\n",
    "XGBoost achieved **80.6% accuracy** and an **AUC score of 0.9455**.  \n",
    "\n",
    "- **Captures Feature Relationships** → Boosting allows it to learn complex interactions, such as between `Checkin Date` and `WeekDay`.  \n",
    "- **Handles Class Imbalance** → Adjusts weights for misclassified samples, improving predictions for underrepresented classes.  \n",
    "- **Regularization Prevents Overfitting** → Built-in L1/L2 regularization ensures robust generalization.  \n",
    "- **Sequential Learning** → Unlike standard tree models, each new tree corrects errors, leading to better accuracy.  \n",
    "\n"
   ]
  }
 ],
 "metadata": {
  "kernelspec": {
   "display_name": "base",
   "language": "python",
   "name": "python3"
  },
  "language_info": {
   "codemirror_mode": {
    "name": "ipython",
    "version": 3
   },
   "file_extension": ".py",
   "mimetype": "text/x-python",
   "name": "python",
   "nbconvert_exporter": "python",
   "pygments_lexer": "ipython3",
   "version": "3.12.7"
  }
 },
 "nbformat": 4,
 "nbformat_minor": 2
}
