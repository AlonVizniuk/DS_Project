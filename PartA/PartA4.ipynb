{
 "cells": [
  {
   "cell_type": "code",
   "execution_count": 1,
   "metadata": {},
   "outputs": [],
   "source": [
    "import pandas as pd"
   ]
  },
  {
   "cell_type": "code",
   "execution_count": null,
   "metadata": {},
   "outputs": [],
   "source": [
    "expedia_df = pd.read_csv('Data/combined_expedia_results.csv')\n",
    "booking_df = pd.read_csv('TaskB - Booking\\merged_booking_final.csv')\n",
    "\n",
    "#clean hotel names\n",
    "expedia_df['Hotel Name'] = expedia_df['Hotel Name'].str.strip().str.lower()\n",
    "booking_df['hotel_name'] = booking_df['hotel_name'].str.strip().str.lower()\n",
    "\n",
    "matched_df = pd.merge(expedia_df[['Hotel Name', 'TTT']]"
   ]
  }
 ],
 "metadata": {
  "kernelspec": {
   "display_name": "base",
   "language": "python",
   "name": "python3"
  },
  "language_info": {
   "codemirror_mode": {
    "name": "ipython",
    "version": 3
   },
   "file_extension": ".py",
   "mimetype": "text/x-python",
   "name": "python",
   "nbconvert_exporter": "python",
   "pygments_lexer": "ipython3",
   "version": "3.12.7"
  }
 },
 "nbformat": 4,
 "nbformat_minor": 2
}
